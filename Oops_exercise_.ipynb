{
  "nbformat": 4,
  "nbformat_minor": 0,
  "metadata": {
    "colab": {
      "provenance": [],
      "authorship_tag": "ABX9TyP5ag/QVCZvr0E5ml0NNf+0",
      "include_colab_link": true
    },
    "kernelspec": {
      "name": "python3",
      "display_name": "Python 3"
    },
    "language_info": {
      "name": "python"
    }
  },
  "cells": [
    {
      "cell_type": "markdown",
      "metadata": {
        "id": "view-in-github",
        "colab_type": "text"
      },
      "source": [
        "<a href=\"https://colab.research.google.com/github/durgesh2010/Assignments-/blob/main/Oops_exercise_.ipynb\" target=\"_parent\"><img src=\"https://colab.research.google.com/assets/colab-badge.svg\" alt=\"Open In Colab\"/></a>"
      ]
    },
    {
      "cell_type": "code",
      "execution_count": null,
      "metadata": {
        "id": "EjNYVN3SykFR"
      },
      "outputs": [],
      "source": []
    },
    {
      "cell_type": "markdown",
      "source": [
        "# OOP Exercise 1: Create a Class with instance attributes"
      ],
      "metadata": {
        "id": "CKLZNGgy0x7N"
      }
    },
    {
      "cell_type": "code",
      "source": [
        "class Vehicle :\n",
        "  def __init__(self,max_speed,milege):\n",
        "    self.max_speed = max_speed\n",
        "    self.milege = milege\n"
      ],
      "metadata": {
        "id": "7lZwR6shZN7V"
      },
      "execution_count": null,
      "outputs": []
    },
    {
      "cell_type": "code",
      "source": [
        "odj = Vehicle(90,70)\n",
        "odj.max_speed"
      ],
      "metadata": {
        "colab": {
          "base_uri": "https://localhost:8080/"
        },
        "id": "cd_RlmtPZOB9",
        "outputId": "f7dda8df-eb50-44f1-d9af-fb70543ce51b"
      },
      "execution_count": null,
      "outputs": [
        {
          "output_type": "execute_result",
          "data": {
            "text/plain": [
              "90"
            ]
          },
          "metadata": {},
          "execution_count": 7
        }
      ]
    },
    {
      "cell_type": "markdown",
      "source": [
        "# OOP Exercise 2: Create a Vehicle class without any variables and methods"
      ],
      "metadata": {
        "id": "ved8MIAd0_Xy"
      }
    },
    {
      "cell_type": "code",
      "source": [
        "class Vehicle:\n",
        "    pass"
      ],
      "metadata": {
        "id": "Qkzb3Y-KZOFs"
      },
      "execution_count": null,
      "outputs": []
    },
    {
      "cell_type": "code",
      "source": [
        "odj = Vehicle\n"
      ],
      "metadata": {
        "id": "sfsKe_zuZOI-"
      },
      "execution_count": null,
      "outputs": []
    },
    {
      "cell_type": "markdown",
      "source": [
        "# OOP Exercise 3: Create a child class Bus that will inherit all of the variables and methods of the Vehicle class"
      ],
      "metadata": {
        "id": "JPYas8GR1JsI"
      }
    },
    {
      "cell_type": "code",
      "source": [
        "class Vehicle:\n",
        "  def __init__ (self,max_speed,milege):\n",
        "    self.max_speed = max_speed\n",
        "    self.milege = milege \n",
        "class van(Vehicle):\n",
        "  pass"
      ],
      "metadata": {
        "id": "_rm1bUicZOME"
      },
      "execution_count": null,
      "outputs": []
    },
    {
      "cell_type": "code",
      "source": [
        "van_obj = van(80,50)\n",
        "print(van_obj.max_speed)\n",
        "print(van_obj.milege)"
      ],
      "metadata": {
        "colab": {
          "base_uri": "https://localhost:8080/"
        },
        "id": "XMAlEdUQZOPA",
        "outputId": "3cc4c9d9-1c97-4daf-d49d-2ca64f6160c1"
      },
      "execution_count": null,
      "outputs": [
        {
          "output_type": "stream",
          "name": "stdout",
          "text": [
            "80\n",
            "50\n"
          ]
        }
      ]
    },
    {
      "cell_type": "markdown",
      "source": [
        "# 4: Class Inheritance"
      ],
      "metadata": {
        "id": "w3OWNKZ3BbUg"
      }
    },
    {
      "cell_type": "code",
      "source": [
        "class Vehicle:\n",
        "    def __init__(self, name, max_speed, mileage):\n",
        "        self.name = name\n",
        "        self.max_speed = max_speed\n",
        "        self.mileage = mileage\n",
        "\n",
        "    def seating_capacity(self, capacity):\n",
        "        return f\"The seating capacity of a {self.name} is {capacity} passengers\"\n",
        "\n",
        "class Bus(Vehicle):\n",
        "    # assign default value to capacity\n",
        "    def seating_capacity(self, capacity=50):\n",
        "        return super().seating_capacity(capacity=50)\n",
        "\n",
        "School_bus = Bus(\"School Volvo\", 180, 12)\n",
        "print(School_bus.seating_capacity())\n"
      ],
      "metadata": {
        "colab": {
          "base_uri": "https://localhost:8080/"
        },
        "id": "1_vGKM0hZOUB",
        "outputId": "a462e4a7-f599-404e-c668-9bcfe199d443"
      },
      "execution_count": null,
      "outputs": [
        {
          "output_type": "stream",
          "name": "stdout",
          "text": [
            "The seating capacity of a School Volvo is 50 passengers\n"
          ]
        }
      ]
    },
    {
      "cell_type": "code",
      "source": [
        "class Vehicle:\n",
        "    def __init__(self, name, max_speed, mileage):\n",
        "        self.name = name\n",
        "        self.max_speed = max_speed\n",
        "        self.mileage = mileage\n",
        "\n",
        "    def seating_capacity(self, capacity):\n",
        "        return f\"The seating capacity of a {self.name} is {capacity} passengers\"\n",
        "\n",
        "class Bus(Vehicle):\n",
        "    # assign default value to capacity\n",
        "    def seating_capacity(self, capacity=30):  ###### the difference here i changed capacity value to 30 but printing 50 bcoz of super().\n",
        "        return super().seating_capacity(capacity=50)\n",
        "\n",
        "School_bus = Bus(\"School Volvo\", 180, 12)\n",
        "print(School_bus.seating_capacity())\n"
      ],
      "metadata": {
        "colab": {
          "base_uri": "https://localhost:8080/"
        },
        "outputId": "fe59bed5-46b5-4ec5-b8e6-44f2cf858df2",
        "id": "Hy-Pup1aEZE4"
      },
      "execution_count": null,
      "outputs": [
        {
          "output_type": "stream",
          "name": "stdout",
          "text": [
            "The seating capacity of a School Volvo is 50 passengers\n"
          ]
        }
      ]
    },
    {
      "cell_type": "code",
      "source": [],
      "metadata": {
        "id": "TnACUB8mCyWW"
      },
      "execution_count": null,
      "outputs": []
    },
    {
      "cell_type": "markdown",
      "source": [
        "# 5: Define a property that must have the same value for every class instance (object)"
      ],
      "metadata": {
        "id": "FGWof2AjE4jm"
      }
    },
    {
      "cell_type": "code",
      "source": [
        "class Vehicle:\n",
        "    # Class attribute        ###### it is outside the method and inside the class\n",
        "    color = \"White\"\n",
        "\n",
        "    def __init__(self, name, max_speed, mileage):\n",
        "        self.name = name\n",
        "        self.max_speed = max_speed\n",
        "        self.mileage = mileage\n",
        "\n",
        "class sBus(Vehicle):\n",
        "    pass\n",
        "\n",
        "class myCar(Vehicle):\n",
        "    pass\n",
        "\n",
        "School_bus = sBus(\"School Omni\", 180, 12)\n",
        "print(School_bus.color, School_bus.name, \"Speed:\", School_bus.max_speed, \"Mileage:\", School_bus.mileage) \n",
        "## we can call static variable by object also\n",
        "\n",
        "car = myCar(\"Audi Q5\", 240, 18)\n",
        "print(car.color, car.name, \"Speed:\", car.max_speed, \"Mileage:\", car.mileage)"
      ],
      "metadata": {
        "colab": {
          "base_uri": "https://localhost:8080/"
        },
        "id": "lPU4ZoGtCy8M",
        "outputId": "ef410d22-0ca1-43b1-84bf-b0bcf9682283"
      },
      "execution_count": null,
      "outputs": [
        {
          "output_type": "stream",
          "name": "stdout",
          "text": [
            "White School Omni Speed: 180 Mileage: 12\n",
            "White Audi Q5 Speed: 240 Mileage: 18\n"
          ]
        }
      ]
    },
    {
      "cell_type": "code",
      "source": [],
      "metadata": {
        "id": "pR0OjeC1E6qK"
      },
      "execution_count": null,
      "outputs": []
    },
    {
      "cell_type": "markdown",
      "source": [
        "# 6: Class Inheritance"
      ],
      "metadata": {
        "id": "zIdX2AupQCaX"
      }
    },
    {
      "cell_type": "code",
      "source": [
        "class Vehicle:\n",
        "    def __init__(self, name, mileage, capacity):\n",
        "        self.name = name\n",
        "        self.mileage = mileage\n",
        "        self.capacity = capacity\n",
        "\n",
        "    def fare(self):\n",
        "        return self.capacity * 100\n",
        "\n",
        "class Bus(Vehicle):\n",
        "    def fare(self):\n",
        "        amount = super().fare()\n",
        "        amount += amount * 10 / 100\n",
        "        return amount\n",
        "\n",
        "School_bus = Bus(\"School Volvo\", 12, 50)\n",
        "print(\"Total Bus fare is:\", School_bus.fare())\n"
      ],
      "metadata": {
        "colab": {
          "base_uri": "https://localhost:8080/"
        },
        "id": "-_KR3jxBE6tx",
        "outputId": "646ff276-1572-453f-caec-cef87018dc7e"
      },
      "execution_count": null,
      "outputs": [
        {
          "output_type": "stream",
          "name": "stdout",
          "text": [
            "Total Bus fare is: 5500.0\n"
          ]
        }
      ]
    },
    {
      "cell_type": "markdown",
      "source": [
        "# 7: Check type of an object"
      ],
      "metadata": {
        "id": "0u4V6bZxR7fB"
      }
    },
    {
      "cell_type": "code",
      "source": [
        "class Vehicle:\n",
        "    def __init__(self, name, mileage, capacity):\n",
        "        self.name = name\n",
        "        self.mileage = mileage\n",
        "        self.capacity = capacity\n",
        "\n",
        "class Bus(Vehicle):\n",
        "    pass\n",
        "\n",
        "School_bus = Bus(\"School Volvo\", 12, 50)\n",
        "\n",
        "# Python's built-in type()\n",
        "print(type(School_bus))"
      ],
      "metadata": {
        "colab": {
          "base_uri": "https://localhost:8080/"
        },
        "id": "wufbbiogR9I9",
        "outputId": "b2b474d1-d30d-498f-e725-b2cc5720629f"
      },
      "execution_count": null,
      "outputs": [
        {
          "output_type": "stream",
          "name": "stdout",
          "text": [
            "<class '__main__.Bus'>\n"
          ]
        }
      ]
    },
    {
      "cell_type": "markdown",
      "source": [
        "# 8: Determine if School_bus is also an instance of the Vehicle class"
      ],
      "metadata": {
        "id": "DChmI31xSP_t"
      }
    },
    {
      "cell_type": "code",
      "source": [
        "class Vehicle:\n",
        "    def __init__(self, name, mileage, capacity):\n",
        "        self.name = name\n",
        "        self.mileage = mileage\n",
        "        self.capacity = capacity\n",
        "\n",
        "class Bus(Vehicle):\n",
        "    pass\n",
        "\n",
        "School_bus = Bus(\"School Volvo\", 12, 50)\n",
        "\n",
        "# Python's built-in isinstance() function\n",
        "print(isinstance(School_bus, Vehicle))"
      ],
      "metadata": {
        "colab": {
          "base_uri": "https://localhost:8080/"
        },
        "id": "KQn_iNSgSRsd",
        "outputId": "fadf51bc-5314-429f-aee9-6fdfa735805f"
      },
      "execution_count": null,
      "outputs": [
        {
          "output_type": "stream",
          "name": "stdout",
          "text": [
            "True\n"
          ]
        }
      ]
    },
    {
      "cell_type": "code",
      "source": [],
      "metadata": {
        "id": "Y0s5nwyTSR18"
      },
      "execution_count": null,
      "outputs": []
    },
    {
      "cell_type": "code",
      "source": [],
      "metadata": {
        "id": "3egKFnBwSR5J"
      },
      "execution_count": null,
      "outputs": []
    },
    {
      "cell_type": "markdown",
      "source": [
        "# Polymorphism in Python is the ability of an object to take many forms. In simple words, polymorphism allows us to perform the same action in many different ways  \n",
        "\n",
        "\n",
        "For example, Jessa acts as an employee when she is at the office. However, when she is at home, she acts like a wife. Also, she represents herself differently in different places. Therefore, the same person takes different forms as per the situation.\n",
        "\n",
        "person takes different forms"
      ],
      "metadata": {
        "id": "8ApSMUpdjXUo"
      }
    },
    {
      "cell_type": "markdown",
      "source": [
        "![image.png](data:image/png;base64,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)"
      ],
      "metadata": {
        "id": "FAcqX19AjlSG"
      }
    },
    {
      "cell_type": "code",
      "source": [],
      "metadata": {
        "id": "iPrAwqgejr9J"
      },
      "execution_count": null,
      "outputs": []
    },
    {
      "cell_type": "markdown",
      "source": [
        "In polymorphism, a method can process objects differently depending on the class type or data type. Let’s see simple examples to understand it better.\n",
        "\n",
        "Polymorphism in Built-in function len()\n",
        "\n",
        "\n",
        "The built-in function len() calculates the length of an object depending upon its type. If an object is a string, it returns the count of characters, and If an object is a list, it returns the count of items in a list.\n",
        "\n",
        "The len() method treats an object as per its class type."
      ],
      "metadata": {
        "id": "RQvie9wmjsIk"
      }
    },
    {
      "cell_type": "code",
      "source": [
        "students = ['Emma', 'Jessa', 'Kelly']\n",
        "school = 'ABC School'\n",
        "\n",
        "# calculate count\n",
        "print(len(students))\n",
        "print(len(school))"
      ],
      "metadata": {
        "id": "qF1RPE8EmeCA"
      },
      "execution_count": null,
      "outputs": []
    }
  ]
}