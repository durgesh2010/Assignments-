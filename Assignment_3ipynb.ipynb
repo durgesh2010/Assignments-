{
  "nbformat": 4,
  "nbformat_minor": 0,
  "metadata": {
    "colab": {
      "provenance": [],
      "authorship_tag": "ABX9TyPZOheapuW4vtChI+GWFGS4",
      "include_colab_link": true
    },
    "kernelspec": {
      "name": "python3",
      "display_name": "Python 3"
    },
    "language_info": {
      "name": "python"
    }
  },
  "cells": [
    {
      "cell_type": "markdown",
      "metadata": {
        "id": "view-in-github",
        "colab_type": "text"
      },
      "source": [
        "<a href=\"https://colab.research.google.com/github/durgesh2010/Assignments-/blob/main/Assignment_3ipynb.ipynb\" target=\"_parent\"><img src=\"https://colab.research.google.com/assets/colab-badge.svg\" alt=\"Open In Colab\"/></a>"
      ]
    },
    {
      "cell_type": "code",
      "execution_count": null,
      "metadata": {
        "id": "lwyo1BJBpAQo"
      },
      "outputs": [],
      "source": []
    },
    {
      "cell_type": "markdown",
      "source": [
        "Problem 1. Write a Python function to sum all the numbers in a list.\n",
        "\n",
        "\n",
        "\n",
        "Sample List : (8, 2, 3, 0, 7)\n",
        "\n",
        "Expected Output : 20\n",
        "\n",
        "\n",
        "\n",
        "Explanation:\n",
        "\n",
        "\n",
        "\n",
        "Summation should like 8+2+3+0+7 = 20"
      ],
      "metadata": {
        "id": "Qb0HyYJYpFM9"
      }
    },
    {
      "cell_type": "code",
      "source": [
        "def sum_function(list_of_no):\n",
        "    total_sum = 0\n",
        "    for x in list_of_no:\n",
        "        total_sum += x\n",
        "    return total_sum\n",
        "\n"
      ],
      "metadata": {
        "id": "GfpHAb82pGvQ"
      },
      "execution_count": 5,
      "outputs": []
    },
    {
      "cell_type": "code",
      "source": [
        "sample_list = [8, 2, 3, 0, 7]\n",
        "sum_function(sample_list)\n",
        "#print(sum_function((8, 2, 3, 0, 7)))"
      ],
      "metadata": {
        "colab": {
          "base_uri": "https://localhost:8080/"
        },
        "id": "8PqOBsaxptlq",
        "outputId": "d7264efd-467d-415c-c7df-dde1f52704e8"
      },
      "execution_count": 6,
      "outputs": [
        {
          "output_type": "execute_result",
          "data": {
            "text/plain": [
              "20"
            ]
          },
          "metadata": {},
          "execution_count": 6
        }
      ]
    },
    {
      "cell_type": "code",
      "source": [],
      "metadata": {
        "id": "u6CkTNFeq13I"
      },
      "execution_count": null,
      "outputs": []
    },
    {
      "cell_type": "markdown",
      "source": [
        "Problem 2. Write a Python program to reverse a string.\n",
        "\n",
        "\n",
        "\n",
        "﻿Sample String : \"1234abcd\"\n",
        "\n",
        "Expected Output : \"dcba4321\""
      ],
      "metadata": {
        "id": "NCLFiTB3qvVe"
      }
    },
    {
      "cell_type": "code",
      "source": [
        "\n",
        "def rev_str(str1):\n",
        "  ''' this function reverse the string '''\n",
        "  dstring = ''\n",
        "  place = len(str1)\n",
        "  while place > 0:\n",
        "    dstring += str1[place - 1 ]\n",
        "    place = place - 1\n",
        "  return dstring\n",
        "\n"
      ],
      "metadata": {
        "colab": {
          "base_uri": "https://localhost:8080/"
        },
        "id": "x0zclD90q38d",
        "outputId": "943fd915-5644-48dd-e523-120eaf39527a"
      },
      "execution_count": 12,
      "outputs": [
        {
          "output_type": "stream",
          "name": "stdout",
          "text": [
            "dcba4321\n"
          ]
        }
      ]
    },
    {
      "cell_type": "code",
      "source": [
        "# function call\n",
        "str_sample = '1234abcd'\n",
        "rev_str(str_sample)"
      ],
      "metadata": {
        "colab": {
          "base_uri": "https://localhost:8080/",
          "height": 36
        },
        "id": "Mgq1Wjg_sFe8",
        "outputId": "cc2c88e4-474d-45db-d299-d7087d78e0e2"
      },
      "execution_count": 13,
      "outputs": [
        {
          "output_type": "execute_result",
          "data": {
            "text/plain": [
              "'dcba4321'"
            ],
            "application/vnd.google.colaboratory.intrinsic+json": {
              "type": "string"
            }
          },
          "metadata": {},
          "execution_count": 13
        }
      ]
    },
    {
      "cell_type": "code",
      "source": [],
      "metadata": {
        "id": "LYDyJaQ0slKD"
      },
      "execution_count": null,
      "outputs": []
    },
    {
      "cell_type": "markdown",
      "source": [
        "Problem 4. Write a Python function that accepts a string and calculate the number of upper case letters and lower case letters.\n",
        "\n",
        "\n",
        "\n",
        "﻿Sample String : 'The quick Brow Fox'\n",
        "\n",
        "Expected Output :\n",
        "\n",
        "No. of Upper case characters : 3\n",
        "\n",
        "No. of Lower case Characters : 12"
      ],
      "metadata": {
        "id": "daOLViffslzg"
      }
    },
    {
      "cell_type": "code",
      "source": [
        "def str_case_count(sample_string):\n",
        "  dlist = sample_string\n",
        "  upper_char = 0\n",
        "  lower_char = 0\n",
        "  for i in dlist:\n",
        "    if i.islower():\n",
        "      lower_char += 1\n",
        "    elif i.isupper():\n",
        "        upper_char +=1\n",
        "    else:\n",
        "        pass\n",
        "  print('No. of Upper case characters:',upper_char)\n",
        "  print('No. of Lower case Characters:',lower_char) "
      ],
      "metadata": {
        "id": "SuIbUlZUuuKy"
      },
      "execution_count": 28,
      "outputs": []
    },
    {
      "cell_type": "code",
      "source": [
        "# function call\n",
        "sample_string = 'The quick Brow Fox'\n",
        "str_case_count(sample_string)"
      ],
      "metadata": {
        "colab": {
          "base_uri": "https://localhost:8080/"
        },
        "id": "MXFKW7bMvfma",
        "outputId": "b76838d4-e1cc-4316-c324-0ac40b52c21c"
      },
      "execution_count": 30,
      "outputs": [
        {
          "output_type": "stream",
          "name": "stdout",
          "text": [
            "No. of Upper case characters: 3\n",
            "No. of Lower case Characters: 12\n"
          ]
        }
      ]
    }
  ]
}