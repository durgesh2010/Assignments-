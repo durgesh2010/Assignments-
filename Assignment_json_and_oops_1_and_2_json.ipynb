{
  "nbformat": 4,
  "nbformat_minor": 0,
  "metadata": {
    "colab": {
      "provenance": [],
      "mount_file_id": "1_7_kBzp_cgcF7EQLPyz-GQPTasylsIJg",
      "authorship_tag": "ABX9TyP4NuUEi72FVlUDY7CzRbFI",
      "include_colab_link": true
    },
    "kernelspec": {
      "name": "python3",
      "display_name": "Python 3"
    },
    "language_info": {
      "name": "python"
    }
  },
  "cells": [
    {
      "cell_type": "markdown",
      "metadata": {
        "id": "view-in-github",
        "colab_type": "text"
      },
      "source": [
        "<a href=\"https://colab.research.google.com/github/durgesh2010/Assignments-/blob/main/Assignment_json_and_oops_1_and_2_json.ipynb\" target=\"_parent\"><img src=\"https://colab.research.google.com/assets/colab-badge.svg\" alt=\"Open In Colab\"/></a>"
      ]
    },
    {
      "cell_type": "code",
      "execution_count": null,
      "metadata": {
        "id": "ucQ0GgUxd7jJ"
      },
      "outputs": [],
      "source": []
    },
    {
      "cell_type": "markdown",
      "source": [
        "# Assignment 1"
      ],
      "metadata": {
        "id": "c_xfZi9IE5lp"
      }
    },
    {
      "cell_type": "markdown",
      "source": [
        "1. Create a JSON file (employee.json) containing employee information of minimum 5 employees. Each employee information consists of Name, DOB, Height, City, State. Write a python program that reads this information from the JSON file and saves the information into a list of objects of Employee class. Finally print the list of the Employee objects.\n",
        "\n",
        "\n",
        "point_right 2. Create a dictionary of any 7 Indian states and their capitals. Write this into a JSON file."
      ],
      "metadata": {
        "id": "zJEmT6jPcRcY"
      }
    },
    {
      "cell_type": "code",
      "source": [
        "import json\n",
        "\n",
        "Employees={}\n",
        "\n",
        "Employees['Durgesh']= {\n",
        "    'name': 'Durgesh',\n",
        "    'DOB': '02/09/1993',\n",
        "    'Height': '5.8',\n",
        "    'City': 'indore',\n",
        "    'State': 'Madhya pradesh'\n",
        "}\n",
        "Employees['Shubham']= {\n",
        "    'name': 'Shubham',\n",
        "    'DOB': '10/05/1998',\n",
        "    'Height': '5.6',\n",
        "    'City': 'Pune',\n",
        "    'State': 'Maharashtra'\n",
        "}\n",
        "Employees['Payal']= {\n",
        "    'name': 'Payal',\n",
        "    'DOB': '28/01/1980',\n",
        "    'Height': '5.3',\n",
        "    'City': 'Mumbai',\n",
        "    'State': 'Maharashtra'\n",
        "}\n",
        "Employees['Pooja']= {\n",
        "    'name': 'Pooja',\n",
        "    'DOB': '17/04/1995',\n",
        "    'Height': '5.4',\n",
        "    'City': 'Bengluru',\n",
        "    'State': 'karnataka'\n",
        "}\n",
        "Employees['hareshwar']= {\n",
        "    'name': 'hareshwar',\n",
        "    'DOB': '22/12/1997',\n",
        "    'Height': '5.4',\n",
        "    'City': 'jalgaon',\n",
        "    'State': 'Maharashtra'\n",
        "}\n",
        "\n",
        "d = json.dumps(Employees)\n",
        "print(d)\n"
      ],
      "metadata": {
        "colab": {
          "base_uri": "https://localhost:8080/"
        },
        "id": "SERmP06y79Is",
        "outputId": "86a3116e-9191-4aa0-9f2d-ff093f974fb0"
      },
      "execution_count": 14,
      "outputs": [
        {
          "output_type": "stream",
          "name": "stdout",
          "text": [
            "{\"Durgesh\": {\"name\": \"Durgesh\", \"DOB\": \"02/09/1993\", \"Height\": \"5.8\", \"City\": \"indore\", \"State\": \"Madhya pradesh\"}, \"Shubham\": {\"name\": \"Shubham\", \"DOB\": \"10/05/1998\", \"Height\": \"5.6\", \"City\": \"Pune\", \"State\": \"Maharashtra\"}, \"Payal\": {\"name\": \"Payal\", \"DOB\": \"28/01/1980\", \"Height\": \"5.3\", \"City\": \"Mumbai\", \"State\": \"Maharashtra\"}, \"Pooja\": {\"name\": \"Pooja\", \"DOB\": \"17/04/1995\", \"Height\": \"5.4\", \"City\": \"Bengluru\", \"State\": \"karnataka\"}, \"hareshwar\": {\"name\": \"hareshwar\", \"DOB\": \"22/12/1997\", \"Height\": \"5.4\", \"City\": \"jalgaon\", \"State\": \"Maharashtra\"}}\n"
          ]
        }
      ]
    },
    {
      "cell_type": "code",
      "source": [
        "import json\n",
        "\n",
        "capital_dict = {\"madhya pradesh\" : \"bhopal\",\n",
        "              \"rajasthan\": \"jaipur\",\n",
        "              \"maharastra\" : \"mumbai\",\n",
        "              \"karnataka\" : \"bengluru\",\n",
        "              \"arunachal pradesh\":\"itanager\",\n",
        "              \"meghalaya\":\"shilong\",\n",
        "              \"sikkim\":\"gangtok\"}\n",
        "\n",
        "capitals = json.dumps(capital_dict)\n",
        "print(capitals)"
      ],
      "metadata": {
        "colab": {
          "base_uri": "https://localhost:8080/"
        },
        "outputId": "cfeeeb1c-3641-42f3-ad86-f9ffb98e56e1",
        "id": "Ao5gDSLdD4Xb"
      },
      "execution_count": 13,
      "outputs": [
        {
          "output_type": "stream",
          "name": "stdout",
          "text": [
            "{\"madhya pradesh\": \"bhopal\", \"rajasthan\": \"jaipur\", \"maharastra\": \"mumbai\", \"karnataka\": \"bengluru\", \"arunachal pradesh\": \"itanager\", \"meghalaya\": \"shilong\", \"sikkim\": \"gangtok\"}\n"
          ]
        }
      ]
    },
    {
      "cell_type": "code",
      "source": [],
      "metadata": {
        "id": "UiJK4NnyESGl"
      },
      "execution_count": null,
      "outputs": []
    },
    {
      "cell_type": "markdown",
      "source": [
        "# Assignment 2"
      ],
      "metadata": {
        "id": "1PUJV0CpEUag"
      }
    },
    {
      "cell_type": "markdown",
      "source": [
        "Create a class named ‘Dog’. It should have a constructor which accepts its name, age and coat color. You must perform the following operations:\n",
        "\n",
        "🔴 a. It should have a function ‘description()’ which prints the name and age of the dog.\n",
        "🔴 b. It should have a function ‘get_info()’ which prints the coat color of the dog.\n",
        "🔴 c. Create child classes ‘JackRussellTerrier’ and ‘Bulldog’ which is inherited from the class ‘Dog’. It should have at least two methods of its own.\n",
        "🔴 d. Create objects and implement the above functionalities."
      ],
      "metadata": {
        "id": "bbPFNjRUZKnq"
      }
    },
    {
      "cell_type": "code",
      "source": [
        "class Dog:\n",
        "  def __init__(self,name,age,coatColor):\n",
        "    self.name = name \n",
        "    self.age = age \n",
        "    self.coatColor = coatColor\n",
        "\n",
        "  def description(self):\n",
        "    print(\"Dog's name : \",self.name)  \n",
        "    print(\"Dog's age : \",self.age)  \n",
        "\n",
        "  def getinfo(self):\n",
        "    print(\"coatColor : \",self.coatColor)\n",
        "\n",
        "class JackRussellTerrier(Dog):\n",
        "  def __init__(self,name,age,coatColor,height,weight):\n",
        "    super().__init__(name,age,coatColor) \n",
        "    self.height = height\n",
        "    self.weight = weight  \n",
        "\n",
        "  def heightjack(self):\n",
        "    print(\"height : \",self.height) \n",
        "\n",
        "\n",
        "  def weightjack(self):\n",
        "    print(\"weight : \",self.weight)\n",
        "\n",
        "\n",
        "class Bulldog(Dog):\n",
        "  def __init__ (self,sex,training_status,name,age,coatColor):\n",
        "    super().__init__(name,age,coatColor)\n",
        "    self.sex = sex\n",
        "    self.training_status = training_status\n",
        "\n",
        "\n",
        "  def identity(self):\n",
        "    print(\"sex : \",self.sex) \n",
        "\n",
        "  def training(self):\n",
        "    print(\"training statues  : \",self.training_status) \n",
        "\n",
        "\n",
        "\n",
        "\n",
        "dogy = Dog(\"Mickel\",2,\"Brown\")  \n",
        "dogy.description()\n",
        "dogy.getinfo()\n",
        "dg = JackRussellTerrier(\"Mongo\",4,\"Black\",3,25) \n",
        "dg.heightjack()\n",
        "dg.weightjack()\n",
        "dg.getinfo()\n",
        "bull = Bulldog('masculine','trained','bulldog',6,'white')\n",
        "bull.identity()\n",
        "bull.training()\n",
        "bull.getinfo()"
      ],
      "metadata": {
        "colab": {
          "base_uri": "https://localhost:8080/"
        },
        "id": "yoAlBihnbE8i",
        "outputId": "694e2e7f-b91c-45b8-ed9a-c51c7aeeca2e"
      },
      "execution_count": null,
      "outputs": [
        {
          "output_type": "stream",
          "name": "stdout",
          "text": [
            "Dog's name :  Mickel\n",
            "Dog's age :  2\n",
            "coatColor :  Brown\n",
            "height :  3\n",
            "weight :  25\n",
            "coatColor :  Black\n",
            "sex :  masculine\n",
            "training statues  :  trained\n",
            "coatColor :  white\n"
          ]
        }
      ]
    }
  ]
}