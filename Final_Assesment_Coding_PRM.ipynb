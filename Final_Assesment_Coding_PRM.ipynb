{
  "nbformat": 4,
  "nbformat_minor": 0,
  "metadata": {
    "colab": {
      "provenance": [],
      "authorship_tag": "ABX9TyOlSGwPsDsmjT1lU3nQKesd",
      "include_colab_link": true
    },
    "kernelspec": {
      "name": "python3",
      "display_name": "Python 3"
    },
    "language_info": {
      "name": "python"
    }
  },
  "cells": [
    {
      "cell_type": "markdown",
      "metadata": {
        "id": "view-in-github",
        "colab_type": "text"
      },
      "source": [
        "<a href=\"https://colab.research.google.com/github/durgesh2010/Assignments-/blob/main/Final_Assesment_Coding_PRM.ipynb\" target=\"_parent\"><img src=\"https://colab.research.google.com/assets/colab-badge.svg\" alt=\"Open In Colab\"/></a>"
      ]
    },
    {
      "cell_type": "code",
      "execution_count": null,
      "metadata": {
        "id": "Kiq1e-LgvdBC"
      },
      "outputs": [],
      "source": []
    },
    {
      "cell_type": "markdown",
      "source": [
        "# Q1. You will be given a list. You have to print a list whose 1st element should be largest and 2nd should be the smallest then the 3rd should be 2nd largest and 4th should be 2nd smallest and so on."
      ],
      "metadata": {
        "id": "lIcuSIr6d75k"
      }
    },
    {
      "cell_type": "markdown",
      "source": [
        "Input Format:\n",
        "\n",
        "The first line will have space-separated elements of the list.\n",
        "\n",
        "Output Format:\n",
        "\n",
        "Print the required list.\n",
        "\n",
        "Sample Input 0:\n",
        "\n",
        "1 2 3 4 5 6\n",
        "\n",
        "Sample Output 0:\n",
        "\n",
        "6 1 5 2 4 3"
      ],
      "metadata": {
        "id": "_BQzz40RqBO0"
      }
    },
    {
      "cell_type": "code",
      "source": [
        "# Python prog to illustrate the following in a list\n",
        "def find_len(list1):\n",
        "  flist = [] \n",
        "  list1 = list1.strip()\n",
        "  # print(list1)  \n",
        "  list1 = list1.split(' ')\n",
        "  for i in list1:\n",
        "    flist.append(int(i))\n",
        "  list1 = flist\n",
        "  flist = []  \n",
        "  length = len(list1)\n",
        "  list1.sort()\n",
        "  # print(list1)\n",
        "  k = 0\n",
        "  while length > 0:\n",
        "      \n",
        "    flist.append(list1[length-1])\n",
        "    flist.append(list1[k])\n",
        "    length = length-1\n",
        "    k=k+1\n",
        "    if list1[length-1] == list1[k] or len(flist) == len(list1):\n",
        "      if len(list1)%2!=0:\n",
        "        flist.append(list1[k])\n",
        "      else:\n",
        "\n",
        "        break\n",
        "      break\n",
        "\n",
        "  print(f'output is {flist}')  \n",
        "\n",
        "# Driver Code\n",
        "\n",
        "list1 = input('Enter the elemnts with single space like 1 2 3 4 5 6, given input is :')\n",
        "Largest = find_len(list1)"
      ],
      "metadata": {
        "colab": {
          "base_uri": "https://localhost:8080/"
        },
        "outputId": "66188f47-9659-40c0-bf07-2ac639a07e72",
        "id": "shHsa3B_yE9m"
      },
      "execution_count": 8,
      "outputs": [
        {
          "output_type": "stream",
          "name": "stdout",
          "text": [
            "Enter the elemnts with single space like 1 2 3 4 5 6, given input is :1 2 3 4 5 6\n",
            "output is [6, 1, 5, 2, 4, 3]\n"
          ]
        }
      ]
    },
    {
      "cell_type": "code",
      "source": [],
      "metadata": {
        "id": "MEz7-L1bwA5P"
      },
      "execution_count": null,
      "outputs": []
    },
    {
      "cell_type": "code",
      "source": [
        "# Q.2\n"
      ],
      "metadata": {
        "id": "x16T3yNOyhTe"
      },
      "execution_count": null,
      "outputs": []
    },
    {
      "cell_type": "markdown",
      "source": [
        "Python - 2\n",
        "\n",
        "Find nth fibonacci number. If it starts with 0,1,1,2.....\n",
        "\n",
        "Also, Print Incorrect Input if n is less than or equal to 0.\n",
        "\n",
        "Input Format:\n",
        "\n",
        "Call the function with n\n",
        "\n",
        "Output Format:\n",
        "\n",
        "Print the nth fibonacci number\n",
        "\n",
        "Sample Input 0:\n",
        "\n",
        "4\n",
        "\n",
        "Sample Output 0:\n",
        "\n",
        "2\n",
        "\n",
        "Sample Input 1:\n",
        "\n",
        " 0\n",
        "\n",
        "Sample Output 1:\n",
        "\n",
        "Incorrect input"
      ],
      "metadata": {
        "id": "dBJREwBWVNJ3"
      }
    },
    {
      "cell_type": "code",
      "source": [
        "def fibonacci(n):\n",
        "    if n <= 0:\n",
        "      print('incorrect input')\n",
        "    else :\n",
        "\n",
        "      fibArray = [0, 1]\n",
        "      \n",
        "      for i in range(1, n+1):\n",
        "          fibArray.append(fibArray[i-1] + fibArray[i-2])\n",
        "      return fibArray[n]\n",
        "\n",
        "# Calling function \n",
        "n = int(input('Enter the n Value :'))\n",
        "print(fibonacci(n))"
      ],
      "metadata": {
        "colab": {
          "base_uri": "https://localhost:8080/"
        },
        "id": "cVeoVnlgT-XD",
        "outputId": "a1a9d898-2404-4772-860d-2faa56da35ec"
      },
      "execution_count": 11,
      "outputs": [
        {
          "output_type": "stream",
          "name": "stdout",
          "text": [
            "Enter the n Value :4\n",
            "2\n"
          ]
        }
      ]
    }
  ]
}