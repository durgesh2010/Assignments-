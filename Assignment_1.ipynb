{
  "nbformat": 4,
  "nbformat_minor": 0,
  "metadata": {
    "colab": {
      "provenance": [],
      "collapsed_sections": [],
      "authorship_tag": "ABX9TyP48DO0qi1bFMxww26SJpsY",
      "include_colab_link": true
    },
    "kernelspec": {
      "name": "python3",
      "display_name": "Python 3"
    },
    "language_info": {
      "name": "python"
    }
  },
  "cells": [
    {
      "cell_type": "markdown",
      "metadata": {
        "id": "view-in-github",
        "colab_type": "text"
      },
      "source": [
        "<a href=\"https://colab.research.google.com/github/durgesh2010/Assignments-/blob/main/Assignment_1.ipynb\" target=\"_parent\"><img src=\"https://colab.research.google.com/assets/colab-badge.svg\" alt=\"Open In Colab\"/></a>"
      ]
    },
    {
      "cell_type": "markdown",
      "source": [
        "Q.1 Write a Python program to get the Fibonacci series between 0 to 50\n",
        "\n",
        "\n",
        "\n",
        "Note : The Fibonacci Sequence is the series of numbers :\n",
        "\n",
        "0, 1, 1, 2, 3, 5, 8, 13, 21, ....\n",
        "\n",
        "Every next number is found by adding up the two numbers before it.\n",
        "\n",
        "Expected Output : 1 1 2 3 5 8 13 21 34"
      ],
      "metadata": {
        "id": "n6ujxS-dELDt"
      }
    },
    {
      "cell_type": "code",
      "source": [
        "prev_no = 0\n",
        "nex_no = 1\n",
        "while nex_no < 50:\n",
        "  print(nex_no)\n",
        "  prev_no,nex_no = nex_no, nex_no + prev_no\n"
      ],
      "metadata": {
        "colab": {
          "base_uri": "https://localhost:8080/"
        },
        "id": "NifDWCNwEGkc",
        "outputId": "50c98b2c-c69b-48fa-91de-a7765d9b7efd"
      },
      "execution_count": null,
      "outputs": [
        {
          "output_type": "stream",
          "name": "stdout",
          "text": [
            "1\n",
            "1\n",
            "2\n",
            "3\n",
            "5\n",
            "8\n",
            "13\n",
            "21\n",
            "34\n"
          ]
        }
      ]
    },
    {
      "cell_type": "markdown",
      "source": [
        "Q.2 Write a Python program that accepts a word from the user and reverse it.\n",
        "\n",
        "\n",
        "\n",
        "Sample Test Case\n",
        "\n",
        "\n",
        "\n",
        "Input : Edyoda\n",
        "\n",
        "output: adoydE"
      ],
      "metadata": {
        "id": "Z_s54jg3cqpu"
      }
    },
    {
      "cell_type": "code",
      "source": [
        "i_string = input('input : ')\n",
        "print(f'output : {i_string[::-1]}')"
      ],
      "metadata": {
        "colab": {
          "base_uri": "https://localhost:8080/"
        },
        "id": "ldc_HFiccuzq",
        "outputId": "18393a7e-0245-49dc-9fa1-31783a18fc1c"
      },
      "execution_count": null,
      "outputs": [
        {
          "output_type": "stream",
          "name": "stdout",
          "text": [
            "input : edyoda\n",
            "output : adoyde\n"
          ]
        }
      ]
    },
    {
      "cell_type": "markdown",
      "source": [
        "Q.3 Write a Python program to count the number of even and odd numbers from a series of numbers.\n",
        "\n",
        "\n",
        "\n",
        "Sample numbers : numbers = (1, 2, 3, 4, 5, 6, 7, 8, 9) \n",
        "\n",
        "Expected Output :\n",
        "\n",
        "Number of even numbers : 4\n",
        "\n",
        "Number of odd numbers : 5"
      ],
      "metadata": {
        "id": "tRa6BccEdueb"
      }
    },
    {
      "cell_type": "code",
      "source": [
        "input_values = (1, 2, 3, 4, 5, 6, 7, 8, 9)\n",
        "even_no = 0\n",
        "odd_no = 0\n",
        "for i in input_values:\n",
        "  if i%2==0:\n",
        "    even_no +=1\n",
        "  else:\n",
        "    odd_no +=1  \n",
        "print(f'Even no. count {even_no}')\n",
        "print(f'Odd no. count  {odd_no}')"
      ],
      "metadata": {
        "colab": {
          "base_uri": "https://localhost:8080/"
        },
        "id": "kwZvyTFFd47Q",
        "outputId": "ce59a2ee-5a98-45fa-957f-a7301c42a1e2"
      },
      "execution_count": null,
      "outputs": [
        {
          "output_type": "stream",
          "name": "stdout",
          "text": [
            "Even no. count 4\n",
            "Odd no. count  5\n"
          ]
        }
      ]
    },
    {
      "cell_type": "code",
      "source": [],
      "metadata": {
        "id": "H06WDhRvTe1V"
      },
      "execution_count": null,
      "outputs": []
    }
  ]
}