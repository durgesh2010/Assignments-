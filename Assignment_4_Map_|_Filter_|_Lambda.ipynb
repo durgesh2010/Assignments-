{
  "nbformat": 4,
  "nbformat_minor": 0,
  "metadata": {
    "colab": {
      "provenance": [],
      "authorship_tag": "ABX9TyOP54I0NUjvPlWRrAu+u1fX",
      "include_colab_link": true
    },
    "kernelspec": {
      "name": "python3",
      "display_name": "Python 3"
    },
    "language_info": {
      "name": "python"
    }
  },
  "cells": [
    {
      "cell_type": "markdown",
      "metadata": {
        "id": "view-in-github",
        "colab_type": "text"
      },
      "source": [
        "<a href=\"https://colab.research.google.com/github/durgesh2010/Assignments-/blob/main/Assignment_4_Map_%7C_Filter_%7C_Lambda.ipynb\" target=\"_parent\"><img src=\"https://colab.research.google.com/assets/colab-badge.svg\" alt=\"Open In Colab\"/></a>"
      ]
    },
    {
      "cell_type": "code",
      "execution_count": null,
      "metadata": {
        "id": "nxradbJ3ovPh"
      },
      "outputs": [],
      "source": []
    },
    {
      "cell_type": "markdown",
      "source": [
        "Write a Python program to create a lambda function that adds 25 to a given number passed in as an argument.\n",
        "\n",
        "\n",
        "\n",
        "sample input: 10\n",
        "\n",
        "sample output: 35"
      ],
      "metadata": {
        "id": "Hq_8c1NWo0yA"
      }
    },
    {
      "cell_type": "code",
      "source": [
        "val = lambda x : x + 25\n",
        "print(val((int(input()))))\n",
        "\n"
      ],
      "metadata": {
        "colab": {
          "base_uri": "https://localhost:8080/"
        },
        "id": "J-En4gSjsmld",
        "outputId": "d11e9cb2-8cfc-47e6-a43a-e42d1c5148d6"
      },
      "execution_count": 31,
      "outputs": [
        {
          "output_type": "stream",
          "name": "stdout",
          "text": [
            "10\n",
            "35\n"
          ]
        }
      ]
    },
    {
      "cell_type": "code",
      "source": [],
      "metadata": {
        "id": "mtIRKXX0s5u5"
      },
      "execution_count": null,
      "outputs": []
    },
    {
      "cell_type": "markdown",
      "source": [
        "Write a Python program to triple all numbers of a given list of integers. Use Python map.\n",
        "\n",
        "\n",
        "\n",
        "sample list: [1, 2, 3, 4, 5, 6, 7]\n",
        "\n",
        "\n",
        "\n",
        "Triple of list numbers:\n",
        "\n",
        "[3, 6, 9, 12, 15, 18, 21]\n",
        "\n"
      ],
      "metadata": {
        "id": "sVWQFfl6s5_E"
      }
    },
    {
      "cell_type": "code",
      "source": [
        "def triple(x):\n",
        "  return x*3\n",
        "  \n",
        "a=[1,2,3,4,5,6,7] # sample list\n",
        "list(map(triple,a ))"
      ],
      "metadata": {
        "colab": {
          "base_uri": "https://localhost:8080/"
        },
        "id": "yZ9UdgbwtNeI",
        "outputId": "65a7e860-0ac2-4b4a-c959-f31e4b774a59"
      },
      "execution_count": 30,
      "outputs": [
        {
          "output_type": "execute_result",
          "data": {
            "text/plain": [
              "[3, 6, 9, 12, 15, 18, 21]"
            ]
          },
          "metadata": {},
          "execution_count": 30
        }
      ]
    },
    {
      "cell_type": "code",
      "source": [],
      "metadata": {
        "id": "dy0XaFL4vb8e"
      },
      "execution_count": null,
      "outputs": []
    },
    {
      "cell_type": "markdown",
      "source": [
        "Write a Python program to square the elements of a list using map() function.\n",
        "\n",
        "\n",
        "\n",
        "Sample List: [4, 5, 2, 9]\n",
        "\n",
        "Square the elements of the list:\n",
        "\n",
        "[16, 25, 4, 81]\n",
        "\n"
      ],
      "metadata": {
        "id": "PtivO7gKvca5"
      }
    },
    {
      "cell_type": "code",
      "source": [
        "def triple(x):\n",
        "  return x**2\n",
        "  \n",
        "a= [4, 5, 2, 9] # sample list\n",
        "list(map(triple,a ))"
      ],
      "metadata": {
        "colab": {
          "base_uri": "https://localhost:8080/"
        },
        "id": "GXgf_V2huL8h",
        "outputId": "89a22560-49b6-4e63-fd60-277efa080379"
      },
      "execution_count": 32,
      "outputs": [
        {
          "output_type": "execute_result",
          "data": {
            "text/plain": [
              "[16, 25, 4, 81]"
            ]
          },
          "metadata": {},
          "execution_count": 32
        }
      ]
    }
  ]
}