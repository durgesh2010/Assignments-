{
  "nbformat": 4,
  "nbformat_minor": 0,
  "metadata": {
    "colab": {
      "provenance": [],
      "authorship_tag": "ABX9TyOGXjl0tfTNk89ByacDOm/9",
      "include_colab_link": true
    },
    "kernelspec": {
      "name": "python3",
      "display_name": "Python 3"
    },
    "language_info": {
      "name": "python"
    }
  },
  "cells": [
    {
      "cell_type": "markdown",
      "metadata": {
        "id": "view-in-github",
        "colab_type": "text"
      },
      "source": [
        "<a href=\"https://colab.research.google.com/github/durgesh2010/Assignments-/blob/main/Assignment_5_Oops_.ipynb\" target=\"_parent\"><img src=\"https://colab.research.google.com/assets/colab-badge.svg\" alt=\"Open In Colab\"/></a>"
      ]
    },
    {
      "cell_type": "code",
      "execution_count": null,
      "metadata": {
        "id": "-yHOnI_Lq-u0"
      },
      "outputs": [],
      "source": []
    },
    {
      "cell_type": "markdown",
      "source": [
        "# Challenge 1: Square Numbers and Return Their Sum"
      ],
      "metadata": {
        "id": "zBB8ceysrNd6"
      }
    },
    {
      "cell_type": "markdown",
      "source": [
        "red_circle In this challenge, you need to implement a method that squares passing variables and returns their sum.\n",
        "\n",
        "Problem statement: Implement a class Point that has three properties and a method. All these attributes (properties and methods) should be public. This problem can be broken down into two tasks:\n",
        "\n",
        "Task 1: point_right Implement a constructor to initialize the values of three properties: x, y, and z.\n",
        "\n",
        "Task 2: point_right Implement a method, sqSum(), in the Point class which squares x, y, and z and returns their sum.\n",
        "\n",
        "Sample properties 1, 3, 5\n",
        "\n",
        "Sample method output 35\n",
        "\n",
        "image1\n",
        "\n",
        "Coding exercise Create a class Point with three properties: x, y, and z.\n",
        "\n",
        "class Point:\n",
        "\n",
        "    def __init__(self):\n",
        "        self.x = x\n",
        "        self.y = y\n",
        "        self.z = z\n",
        "\n",
        "    def sqSum(self):\n",
        "        pass"
      ],
      "metadata": {
        "id": "4EBDfMTYFLD-"
      }
    },
    {
      "cell_type": "code",
      "source": [
        "# solution \n",
        "class Point:\n",
        "\n",
        "    def __init__(self,x,y,z):\n",
        "        self.x = x*x\n",
        "        self.y = y*y\n",
        "        self.z = z*z\n",
        "\n",
        "    def sqSum(self):\n",
        "      return (self.x + self.y+ self.z)\n",
        "\n",
        "\n",
        "\n",
        "obj = Point(1,3,5)\n",
        "obj.sqSum()"
      ],
      "metadata": {
        "colab": {
          "base_uri": "https://localhost:8080/"
        },
        "id": "0NAX4VUcrPSa",
        "outputId": "e03676a0-1f03-4b0e-fb79-0424b0c9d03e"
      },
      "execution_count": null,
      "outputs": [
        {
          "output_type": "execute_result",
          "data": {
            "text/plain": [
              "35"
            ]
          },
          "metadata": {},
          "execution_count": 46
        }
      ]
    },
    {
      "cell_type": "code",
      "source": [],
      "metadata": {
        "id": "aq519zi3FExG"
      },
      "execution_count": null,
      "outputs": []
    },
    {
      "cell_type": "code",
      "source": [],
      "metadata": {
        "id": "kl6iAhzqFE_5"
      },
      "execution_count": null,
      "outputs": []
    },
    {
      "cell_type": "markdown",
      "source": [
        "# Challenge 2: Implement a Calculator Class\n",
        "\n",
        "* In this exercise, you have to implement a calculator that can perform addition, subtraction, multiplication, and division.\n",
        "\n",
        "Problem statement Write a Python class called Calculator by completing the tasks below:\n",
        "\n",
        "Task 1\n",
        "\n",
        "point_right Initializer\n",
        "\n",
        "Implement an initializer to initialize the values of num1 and num2. Properties\n",
        "\n",
        "• num1\n",
        "• num2\n",
        "Task 2\n",
        "\n",
        "point_right Methods\n",
        "\n",
        "• add() is a method that returns the sum of num1 and num2.\n",
        "• subtract() is a method that returns the subtraction of num1 from num2.\n",
        "• multiply() is a method that returns the product of num1 and num2.\n",
        "• divide() is a method that returns the division of num2 by num1.\n",
        "Input - Pass numbers (integers or floats) in the initializer.\n",
        "\n",
        "Output - addition, subtraction, division, and multiplication\n",
        "\n",
        "Sample input\n",
        "\n",
        "obj = Calculator(10, 94)\n",
        "obj.add()\n",
        "obj.subtract()\n",
        "obj.multiply()\n",
        "obj.divide()\n",
        "Sample output\n",
        "\n",
        "104\n",
        "84\n",
        "940\n",
        "9.4\n",
        "Coding exercise\n",
        "\n",
        "class Calculator:\n",
        "\n",
        "    def __init__(self):\n",
        "        pass\n",
        "    def add(self):\n",
        "        pass\n",
        "    def subtract(self):\n",
        "        pass\n",
        "    def multiply(self):\n",
        "        pass\n",
        "    def divide(self):\n",
        "        pass"
      ],
      "metadata": {
        "id": "8N4d7EJ4HOnS"
      }
    },
    {
      "cell_type": "code",
      "source": [],
      "metadata": {
        "id": "h1qdoR4OHXGk"
      },
      "execution_count": null,
      "outputs": []
    },
    {
      "cell_type": "code",
      "source": [],
      "metadata": {
        "id": "b0AuQ7gsHXfE"
      },
      "execution_count": null,
      "outputs": []
    },
    {
      "cell_type": "code",
      "source": [
        "class Calculator:\n",
        "\n",
        "    def __init__(self,x,y):\n",
        "      self.x=x\n",
        "      self.y=y\n",
        "    \n",
        "    def add(self):\n",
        "        z=self.x+self.y\n",
        "        return z\n",
        "    def subtract(self):\n",
        "        z=self.x-self.y\n",
        "        return z\n",
        "    def multiply(self):\n",
        "        z=self.x*self.y\n",
        "        return z\n",
        "    def divide(self):\n",
        "        z=self.x/self.y\n",
        "        return z\n",
        "\n",
        "print(\"^^^^^^^^^^^^^^^---------------^^^^^^^^^^^^^^^^^^^\")\n",
        "print(\"---------------- CALCULATOR --------------------\")\n",
        "print(\"__________________________________________________\")\n",
        "print(\"1.Addition\\n2.Subtract\\n3.Multiply\\n4.Divide\")\n",
        "op=int(input(\"\\t Enter the operation (1-4):   \"))\n",
        "if ch<=4:\n",
        "  a=int(input(\"Enter First No  :  \"))\n",
        "  b=int(input(\"Enter Second No  :  \"))\n",
        "obj = Calculator(a,b)\n",
        "\n",
        "if op==1:\n",
        "  print(\"The Sum =\",obj.add())\n",
        "elif op==2:\n",
        "  print(\"The subtraction = \",obj.subtract())\n",
        "elif op==3:\n",
        "  print(\"The multiplication= \",obj.multiply())\n",
        "elif op==4:\n",
        "  print(\"The division = \",obj.divide())\n",
        "else:\n",
        "  print(\"invalid Please Enter the value between 1 to 4\")\n",
        "\n"
      ],
      "metadata": {
        "colab": {
          "base_uri": "https://localhost:8080/"
        },
        "id": "mu-Ob2WEHr1z",
        "outputId": "c7d0f507-2687-4ef4-e6e4-6dde3f713337"
      },
      "execution_count": null,
      "outputs": [
        {
          "output_type": "stream",
          "name": "stdout",
          "text": [
            "^^^^^^^^^^^^^^^---------------^^^^^^^^^^^^^^^^^^^\n",
            "|-----------------CALCULATOR---------------------|\n",
            "__________________________________________________\n",
            "1.Addition\n",
            "2.Subtract\n",
            "3.Multiply\n",
            "4.Divide\n",
            "\t Enter the operation (1-4):   1\n",
            "Enter First No  :  5\n",
            "Enter Second No  :  6\n",
            "The Sum = 11\n"
          ]
        }
      ]
    },
    {
      "cell_type": "markdown",
      "source": [
        "# Challenge 3: Implement the Complete Student Class"
      ],
      "metadata": {
        "id": "gHkWLWng93GV"
      }
    },
    {
      "cell_type": "code",
      "source": [],
      "metadata": {
        "id": "gHGcx8aHnPYe"
      },
      "execution_count": null,
      "outputs": []
    },
    {
      "cell_type": "code",
      "source": [
        "class Student:\n",
        "  def setName(self):\n",
        "    print(\"the Name of the student is \",self.name)\n",
        "  def getName(self):\n",
        "    self.name=input(\"Enter the name of the student : \")\n",
        "  def setRollNumber(self):\n",
        "    print(\"The roll number of the student is \", self.roll)\n",
        "  def getRollNumber(self):\n",
        "    self.roll=input(\"Enter the roll Number of the student  :  \")\n",
        "\n",
        "obj=Student()\n",
        "obj.getName()\n",
        "obj.setName()\n",
        "obj.getRollNumber()\n",
        "obj.setRollNumber()\n",
        "\n"
      ],
      "metadata": {
        "colab": {
          "base_uri": "https://localhost:8080/"
        },
        "id": "R8hqKFIwPTVg",
        "outputId": "af5c3d3e-29f2-410d-8ade-9fa566f920e4"
      },
      "execution_count": null,
      "outputs": [
        {
          "output_type": "stream",
          "name": "stdout",
          "text": [
            "Enter the name of the student : 12\n",
            "the Name of the student is  12\n",
            "Enter the roll Number of the student  :  23\n",
            "The roll number of the student is  23\n"
          ]
        }
      ]
    },
    {
      "cell_type": "code",
      "source": [],
      "metadata": {
        "id": "BhZplX6XnPhP"
      },
      "execution_count": null,
      "outputs": []
    },
    {
      "cell_type": "markdown",
      "source": [
        "# Challenge 4: Implement a Banking Account"
      ],
      "metadata": {
        "id": "vsAlk9oDnW40"
      }
    },
    {
      "cell_type": "code",
      "source": [
        "class Account:\n",
        "\n",
        "    def __init__(self,title=None,balance = 0):\n",
        "      self.title = title\n",
        "      self.balance = balance\n",
        "      \n",
        "      \n",
        "class SavingsAccount(Account):\n",
        "    def __init__(self, title=None, balance=0, interestRate=0):\n",
        "            super().__init__(title, balance)\n",
        "            self.interestRate = interestRate\n",
        "\n",
        "\n",
        "# account class object\n",
        "acc = Account(\"Ashish\",5000)\n",
        "print(acc.title)\n",
        "print(acc.balance)            \n",
        "\n",
        "# saving account object      \n",
        "saving_acc = SavingsAccount(\"Ashish\", 5000, 5)\n",
        "print(saving_acc.interestRate)      "
      ],
      "metadata": {
        "colab": {
          "base_uri": "https://localhost:8080/"
        },
        "id": "8bWdP5VHnPkX",
        "outputId": "16cd3d0f-f1de-4035-9631-e52775a921b2"
      },
      "execution_count": null,
      "outputs": [
        {
          "output_type": "stream",
          "name": "stdout",
          "text": [
            "Ashish\n",
            "5000\n",
            "5\n"
          ]
        }
      ]
    },
    {
      "cell_type": "code",
      "source": [
        "\n",
        "saving_acc = SavingsAccount(\"Ashish\", 5000, 5)\n",
        "saving_acc.interestRate"
      ],
      "metadata": {
        "colab": {
          "base_uri": "https://localhost:8080/"
        },
        "id": "LykW38sXnPqg",
        "outputId": "8f250a84-ae72-4681-b2c8-614464e4c6d7"
      },
      "execution_count": null,
      "outputs": [
        {
          "output_type": "execute_result",
          "data": {
            "text/plain": [
              "5"
            ]
          },
          "metadata": {},
          "execution_count": 19
        }
      ]
    },
    {
      "cell_type": "code",
      "source": [],
      "metadata": {
        "id": "mph6E7G5nPy9"
      },
      "execution_count": null,
      "outputs": []
    },
    {
      "cell_type": "markdown",
      "source": [
        "# Challenge 5: Handling a Bank Account"
      ],
      "metadata": {
        "id": "KiHGqffzD1Oe"
      }
    },
    {
      "cell_type": "code",
      "source": [
        "class Account:\n",
        "    def __init__(self, title=None, balance=0):\n",
        "        self.title = title\n",
        "        self.balance = balance\n",
        "\n",
        "    def getBalance(self):\n",
        "      print(self.balance)\n",
        "\n",
        "\n",
        "    def deposit(self):\n",
        "      d_amount = int(input('Enter the Amount: '))\n",
        "      self.balance = self.balance + d_amount\n",
        "      print(\"Balance after deposit :\",self.balance)\n",
        "\n",
        "    \n",
        "    def withdrawal(self):\n",
        "      amount = int(input('Enter the Amount: '))\n",
        "      if amount < self.balance:\n",
        "        self.balance = self.balance - amount\n",
        "        print('Operation Succesfull')\n",
        "        print(\"Balance after deposit :\",self.balance)\n",
        "      else :\n",
        "        print('Account balance is low please change the amount')\n",
        "   \n",
        "      # amount = input(int('Enter the amount: '))\n",
        "      # self.balance = self.balance + amount\n",
        "      # print(\"Deposit Succesfull\")\n",
        "        \n",
        "        \n",
        "    \n",
        "\n",
        "class SavingsAccount(Account):\n",
        "    def __init__(self, title=None, balance=0, interestRate=1):\n",
        "            super().__init__(title, balance)\n",
        "            self.interestRate = interestRate\n",
        "    \n",
        "    def interestAmount(self):\n",
        "      # self.interestRate = interestRate\n",
        "      self.interestAmount = int((self.interestRate*self.balance)/100)\n",
        "      print(self.interestAmount )  \n",
        "\n",
        "#code to test - do not edit this\n",
        "account = Account(\"Ashish\", 2000)\n",
        "demo1 = SavingsAccount(\"Ashish\", 2000, 5)   # initializing a SavingsAccount object\n",
        "\n",
        "\n",
        "# print(f'The available account balance is : {demo1.getBalance()}')\n",
        "# print(f'Enter the amount to Deposit : {account.deposit()}')\n",
        "# print(f'interest made on account balance : {demo1.interestAmount()}')\n",
        "\n",
        "\n"
      ],
      "metadata": {
        "id": "Bzk2Fx71omPf",
        "colab": {
          "base_uri": "https://localhost:8080/"
        },
        "outputId": "549a870c-e571-4b57-ece8-3cdd5861a43b"
      },
      "execution_count": null,
      "outputs": [
        {
          "output_type": "stream",
          "name": "stdout",
          "text": [
            "2000\n",
            "The available account balance is : None\n"
          ]
        }
      ]
    },
    {
      "cell_type": "code",
      "source": [
        "# account.getBalance()\n",
        "demo1.getBalance()"
      ],
      "metadata": {
        "colab": {
          "base_uri": "https://localhost:8080/"
        },
        "id": "TTl3cMKrk2Bl",
        "outputId": "67f63e65-7971-4a80-d13e-b67326fff6cc"
      },
      "execution_count": null,
      "outputs": [
        {
          "output_type": "stream",
          "name": "stdout",
          "text": [
            "2000\n"
          ]
        }
      ]
    },
    {
      "cell_type": "code",
      "source": [
        "# deposit amount\n",
        "demo1.deposit()"
      ],
      "metadata": {
        "colab": {
          "base_uri": "https://localhost:8080/"
        },
        "id": "Xw0CQQ-Hk1-1",
        "outputId": "8ea73457-6800-45de-cab3-12e79c0b73f7"
      },
      "execution_count": null,
      "outputs": [
        {
          "output_type": "stream",
          "name": "stdout",
          "text": [
            "Enter the Amount: 500\n",
            "Balance after deposit : 2500\n"
          ]
        }
      ]
    },
    {
      "cell_type": "code",
      "source": [
        "# interest amount\n",
        "demo1.interestAmount()"
      ],
      "metadata": {
        "colab": {
          "base_uri": "https://localhost:8080/"
        },
        "id": "4nUWA6ndk17u",
        "outputId": "59569705-d97f-41c8-fe2d-f1b1c142ce9a"
      },
      "execution_count": null,
      "outputs": [
        {
          "output_type": "stream",
          "name": "stdout",
          "text": [
            "125\n"
          ]
        }
      ]
    }
  ]
}