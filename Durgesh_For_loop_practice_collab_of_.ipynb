{
  "nbformat": 4,
  "nbformat_minor": 0,
  "metadata": {
    "colab": {
      "provenance": [],
      "authorship_tag": "ABX9TyM7Mlk6H7EaXaArVEweH9Mu",
      "include_colab_link": true
    },
    "kernelspec": {
      "name": "python3",
      "display_name": "Python 3"
    },
    "language_info": {
      "name": "python"
    }
  },
  "cells": [
    {
      "cell_type": "markdown",
      "metadata": {
        "id": "view-in-github",
        "colab_type": "text"
      },
      "source": [
        "<a href=\"https://colab.research.google.com/github/durgesh2010/Assignments-/blob/main/Durgesh_For_loop_practice_collab_of_.ipynb\" target=\"_parent\"><img src=\"https://colab.research.google.com/assets/colab-badge.svg\" alt=\"Open In Colab\"/></a>"
      ]
    },
    {
      "cell_type": "code",
      "execution_count": null,
      "metadata": {
        "id": "Pa6B95OJO0Ke"
      },
      "outputs": [],
      "source": []
    },
    {
      "cell_type": "markdown",
      "source": [
        "# 13 Sept "
      ],
      "metadata": {
        "id": "yDknkvt46OiM"
      }
    },
    {
      "cell_type": "code",
      "source": [
        "#1 print list in reverse order using for loop \n",
        "list1 = [1,2,3,4,'my_code']\n",
        "for i in range(1,len(list1)):\n",
        "  print(list1[-i])"
      ],
      "metadata": {
        "colab": {
          "base_uri": "https://localhost:8080/"
        },
        "id": "VUtRd-0tNVO_",
        "outputId": "41987f39-c48d-46b4-8e30-455b8a4e341e"
      },
      "execution_count": null,
      "outputs": [
        {
          "output_type": "stream",
          "name": "stdout",
          "text": [
            "my_code\n",
            "4\n",
            "3\n",
            "2\n"
          ]
        }
      ]
    },
    {
      "cell_type": "code",
      "source": [
        "#2 For loop -10 to 1 code \n",
        "for num in range(-10, -0):\n",
        "    print(num)"
      ],
      "metadata": {
        "id": "idwRikmD0LCq",
        "colab": {
          "base_uri": "https://localhost:8080/"
        },
        "outputId": "d10a99e1-6234-4f35-b993-1165f29c0424"
      },
      "execution_count": null,
      "outputs": [
        {
          "output_type": "stream",
          "name": "stdout",
          "text": [
            "-10\n",
            "-9\n",
            "-8\n",
            "-7\n",
            "-6\n",
            "-5\n",
            "-4\n",
            "-3\n",
            "-2\n",
            "-1\n"
          ]
        }
      ]
    },
    {
      "cell_type": "code",
      "source": [
        "#3 Python program to display all the prime numbers within an interval\n",
        "\n",
        "lower = 0\n",
        "upper = 50\n",
        "\n",
        "print(\"Prime numbers between\", lower, \"and\", upper, \"are:\")\n",
        "\n",
        "for num in range(lower, upper + 1):\n",
        "   # all prime numbers are greater than 1\n",
        "   if num > 1:\n",
        "       for i in range(2, num):\n",
        "           if (num % i) == 0:\n",
        "               break\n",
        "       else:\n",
        "           print(num)"
      ],
      "metadata": {
        "id": "ciFeShVvOYem",
        "colab": {
          "base_uri": "https://localhost:8080/"
        },
        "outputId": "c931acf1-a4a5-4179-d5f6-26547412c8bc"
      },
      "execution_count": null,
      "outputs": [
        {
          "output_type": "stream",
          "name": "stdout",
          "text": [
            "Prime numbers between 0 and 50 are:\n",
            "2\n",
            "3\n",
            "5\n",
            "7\n",
            "11\n",
            "13\n",
            "17\n",
            "19\n",
            "23\n",
            "29\n",
            "31\n",
            "37\n",
            "41\n",
            "43\n",
            "47\n"
          ]
        }
      ]
    },
    {
      "cell_type": "code",
      "source": [
        "num = int(input())\n",
        "factorial = 1\n",
        "\n",
        "#4 Find the factorial of a number\n",
        "if num < 0:\n",
        "   print(\"Sorry, factorial does not exist for negative numbers\")\n",
        "elif num == 0:\n",
        "   print(\"The factorial of 0 is 1\")\n",
        "else:\n",
        "   for i in range(1,num + 1):\n",
        "       factorial = factorial*i\n",
        "   print(\"The factorial of\",num,\"is\",factorial)"
      ],
      "metadata": {
        "id": "901TPb1EK6t4",
        "colab": {
          "base_uri": "https://localhost:8080/"
        },
        "outputId": "ba365d67-a097-45c3-b5a0-330b0482e6f3"
      },
      "execution_count": null,
      "outputs": [
        {
          "output_type": "stream",
          "name": "stdout",
          "text": [
            "8\n",
            "The factorial of 8 is 40320\n"
          ]
        }
      ]
    },
    {
      "cell_type": "code",
      "source": [
        "#5 Reverse the given integer\n",
        "i_string = input('input : ')\n",
        "print(f'output : {i_string[::-1]}')"
      ],
      "metadata": {
        "colab": {
          "base_uri": "https://localhost:8080/"
        },
        "id": "b3GWeo2xO7qw",
        "outputId": "a2ff6834-16be-452a-efaf-d0bbb91f72bc"
      },
      "execution_count": null,
      "outputs": [
        {
          "output_type": "stream",
          "name": "stdout",
          "text": [
            "input : 456789\n",
            "output : 987654\n"
          ]
        }
      ]
    },
    {
      "cell_type": "code",
      "source": [
        "#6 Use a loop to display elements from a given list present at odd index position \n",
        "odd = [0,1,2,3,4,5,6,7,8,9,10]\n",
        "for i in range(len(odd)):\n",
        "  if i%2 != 0:\n",
        "    print(odd[i])\n"
      ],
      "metadata": {
        "colab": {
          "base_uri": "https://localhost:8080/"
        },
        "id": "zRzyRoMuVkyp",
        "outputId": "dc2aba6a-1bfe-4db2-af3f-53542626fc8a"
      },
      "execution_count": null,
      "outputs": [
        {
          "output_type": "stream",
          "name": "stdout",
          "text": [
            "1\n",
            "3\n",
            "5\n",
            "7\n",
            "9\n"
          ]
        }
      ]
    },
    {
      "cell_type": "code",
      "source": [
        "#7 calculate the cube of all numbers from  1 to given range \n",
        "cubes = int(input())\n",
        "for i in range(cubes):\n",
        "  print(f'cube of {i} is {i**3}')"
      ],
      "metadata": {
        "colab": {
          "base_uri": "https://localhost:8080/"
        },
        "id": "PUNg8-vUO7uB",
        "outputId": "f1dcca99-302f-475c-88f0-6df1d2fc92ae"
      },
      "execution_count": null,
      "outputs": [
        {
          "output_type": "stream",
          "name": "stdout",
          "text": [
            "8\n",
            "cube of 0 is 0\n",
            "cube of 1 is 1\n",
            "cube of 2 is 8\n",
            "cube of 3 is 27\n",
            "cube of 4 is 64\n",
            "cube of 5 is 125\n",
            "cube of 6 is 216\n",
            "cube of 7 is 343\n"
          ]
        }
      ]
    },
    {
      "cell_type": "code",
      "source": [
        "#8 Find the sum of the series upto n terms (n = 5)\n",
        "n = int(input())\n",
        "sum = 0\n",
        "for i in range(n):\n",
        "  sum = sum + i\n",
        "print(f'total sum is {sum}')  "
      ],
      "metadata": {
        "colab": {
          "base_uri": "https://localhost:8080/"
        },
        "id": "nMuQuOvMWgF-",
        "outputId": "1b3db3db-dc69-450d-9b5e-30ed7a4ae61a"
      },
      "execution_count": null,
      "outputs": [
        {
          "output_type": "stream",
          "name": "stdout",
          "text": [
            "10\n",
            "total sum is 45\n"
          ]
        }
      ]
    },
    {
      "cell_type": "code",
      "source": [],
      "metadata": {
        "id": "vWUkUtfKbGzC"
      },
      "execution_count": null,
      "outputs": []
    },
    {
      "cell_type": "code",
      "source": [
        "# Q.9\n",
        "# *                  # Print this pattern\n",
        "# * * \n",
        "# * * * \n",
        "# * * * * \n",
        "# * * * * * \n",
        "# * * * * \n",
        "# * * * \n",
        "# * * \n",
        "# *\n",
        "rows =  10\n",
        "for i in range(0,rows):\n",
        "  for j in range(0,i):\n",
        "    print(\"* \",end='')\n",
        "  print(\"9\")   \n",
        "\n"
      ],
      "metadata": {
        "id": "-rVpHotSaL0x"
      },
      "execution_count": null,
      "outputs": []
    },
    {
      "cell_type": "code",
      "source": [
        "rows = 10 \n",
        "for v in range(0,rows):\n",
        "  for j in range(0,v):\n",
        "    print(\"* \",end='')\n",
        "  print(\"\")      \n",
        "k = 2 * rows - 2  # It is used for number of spaces  \n",
        "for i in range(0, rows):  \n",
        "    for j in range(0, k):  \n",
        "        print(end=\"*\")  \n",
        "    k = k - 2   # decrement k value after each iteration  if we fo -1 then it will convert to right angle triangel\n",
        "    for j in range(0, i + 1):  \n",
        "        print(\" \", end=\"\")  # printing star  \n",
        "    print(\"\")\n"
      ],
      "metadata": {
        "colab": {
          "base_uri": "https://localhost:8080/"
        },
        "id": "5u7-Q3OmZHlZ",
        "outputId": "8302f29b-085f-4897-dfac-659e3b0f9247"
      },
      "execution_count": null,
      "outputs": [
        {
          "output_type": "stream",
          "name": "stdout",
          "text": [
            "\n",
            "* \n",
            "* * \n",
            "* * * \n",
            "* * * * \n",
            "* * * * * \n",
            "* * * * * * \n",
            "* * * * * * * \n",
            "* * * * * * * * \n",
            "* * * * * * * * * \n",
            "****************** \n",
            "****************  \n",
            "**************   \n",
            "************    \n",
            "**********     \n",
            "********      \n",
            "******       \n",
            "****        \n",
            "**         \n",
            "          \n"
          ]
        }
      ]
    },
    {
      "cell_type": "code",
      "source": [
        "# 10 Convert two lists into a dictionary\n",
        "list1 = ['india','australia','usa']\n",
        "list2 = ['delhi','canberra','washinton']\n",
        "dict1 = dict(zip(list1,list2))\n",
        "print(dict1)"
      ],
      "metadata": {
        "colab": {
          "base_uri": "https://localhost:8080/"
        },
        "id": "5duBVYrUcbG6",
        "outputId": "038fa3d2-6f2f-4fa3-9e69-6373b2789b1b"
      },
      "execution_count": null,
      "outputs": [
        {
          "output_type": "stream",
          "name": "stdout",
          "text": [
            "{'india': 'delhi', 'australia': 'canberra', 'usa': 'washinton'}\n"
          ]
        }
      ]
    },
    {
      "cell_type": "code",
      "source": [
        "#11 Merge two Python dictionaries into one\n",
        "# Python code to merge dict using update() method\n",
        "dict1 = {'a': 10, 'b': 8}\n",
        "dict2 = {'d': 6, 'c': 4}\n",
        "dict2.update(dict1)\n",
        "\n",
        "\n",
        "# changes made in dict2\n",
        "print(dict2)\n"
      ],
      "metadata": {
        "colab": {
          "base_uri": "https://localhost:8080/"
        },
        "id": "Y1RCMl68dwY4",
        "outputId": "da8dcb7b-1483-4da7-8425-162fa957bcac"
      },
      "execution_count": null,
      "outputs": [
        {
          "output_type": "stream",
          "name": "stdout",
          "text": [
            "{'d': 6, 'c': 4, 'a': 10, 'b': 8}\n"
          ]
        }
      ]
    },
    {
      "cell_type": "code",
      "source": [
        "# 12-Create a dictionary by extracting the keys from a given dictionary\n",
        "dict2 = {1:'one',2:'two',3:'three',4:'four'}\n",
        "dict2.keys()"
      ],
      "metadata": {
        "id": "CrsP1daJhFhs",
        "colab": {
          "base_uri": "https://localhost:8080/"
        },
        "outputId": "e54ec9ad-dd58-48c8-eea1-b9e320e7dc36"
      },
      "execution_count": null,
      "outputs": [
        {
          "output_type": "execute_result",
          "data": {
            "text/plain": [
              "dict_keys([1, 2, 3, 4])"
            ]
          },
          "metadata": {},
          "execution_count": 1
        }
      ]
    },
    {
      "cell_type": "code",
      "source": [
        "#13 Remove and add item in a list\n",
        "list2 = [1,2,3,4,5,6,7,8,9,'mystring',True]\n",
        "list2.append('durgesh')\n",
        "list2.remove(9)\n",
        "list2"
      ],
      "metadata": {
        "colab": {
          "base_uri": "https://localhost:8080/"
        },
        "id": "nxfYUreEe2ep",
        "outputId": "02783ad8-4032-45c0-a7a1-7f7025377b28"
      },
      "execution_count": null,
      "outputs": [
        {
          "output_type": "execute_result",
          "data": {
            "text/plain": [
              "[1, 2, 3, 4, 5, 6, 7, 8, 'mystring', True, 'durgesh']"
            ]
          },
          "metadata": {},
          "execution_count": 29
        }
      ]
    },
    {
      "cell_type": "code",
      "source": [
        "# 14-Unpack the tuple into 4 variables\n",
        "ntuple = ('apple','samsung','nokia','motorola')\n",
        "for i in ntuple:\n",
        "  print(i)\n"
      ],
      "metadata": {
        "id": "sEBehTptiOmi",
        "colab": {
          "base_uri": "https://localhost:8080/"
        },
        "outputId": "cbb543d1-ae1e-4872-a4b6-a551536671e1"
      },
      "execution_count": null,
      "outputs": [
        {
          "output_type": "stream",
          "name": "stdout",
          "text": [
            "apple\n",
            "samsung\n",
            "nokia\n",
            "motorola\n"
          ]
        }
      ]
    },
    {
      "cell_type": "code",
      "source": [
        "# 15-Swap two tuples in Python\n",
        "a=int(input(\"Enter the first number :\"))\n",
        "b=int(input(\"Enter the second number :\"))\n",
        "print (\"a=\",a, \"b=\",b)\n",
        "(a,b)=(b,a)\n",
        "print(\"a=\",a, \"b=\",b)"
      ],
      "metadata": {
        "colab": {
          "base_uri": "https://localhost:8080/"
        },
        "id": "XdtcoSQBhO6k",
        "outputId": "ed13b44a-f710-4926-abf5-c65d165476bd"
      },
      "execution_count": null,
      "outputs": [
        {
          "output_type": "stream",
          "name": "stdout",
          "text": [
            "Enter the first number :20\n",
            "Enter the second number :30\n",
            "a= 20 b= 30\n",
            "a= 30 b= 20\n"
          ]
        }
      ]
    },
    {
      "cell_type": "code",
      "source": [
        "# 16-Copy specific elements from one tuple to a new tuple\n",
        "ntuple = ('apple','samsung','nokia','motorola')\n",
        "new_tuple = (ntuple[0])\n",
        "new_tuple"
      ],
      "metadata": {
        "colab": {
          "base_uri": "https://localhost:8080/",
          "height": 36
        },
        "id": "LdsHC1Iuh14I",
        "outputId": "6394e92c-eb23-4a9d-a253-a989f066b9e3"
      },
      "execution_count": null,
      "outputs": [
        {
          "output_type": "execute_result",
          "data": {
            "text/plain": [
              "'apple'"
            ],
            "application/vnd.google.colaboratory.intrinsic+json": {
              "type": "string"
            }
          },
          "metadata": {},
          "execution_count": 6
        }
      ]
    },
    {
      "cell_type": "code",
      "source": [
        "# 17-Sort a tuple of tuples by 2nd item\n"
      ],
      "metadata": {
        "id": "7fgOsTaCiI7I"
      },
      "execution_count": null,
      "outputs": []
    },
    {
      "cell_type": "code",
      "source": [
        "# 18-Counts the number of occurrences of item 50 from a tuple\n",
        "\n",
        "tuple2 = (1,2,2,33,3,4,4,4,5,5,6,7,7,8,9,22,13,)\n",
        "x = int(input())\n",
        "count = 0\n",
        "for i in tuple2:\n",
        "  if (i == x):\n",
        "    count = count + 1\n",
        "print(f'counnt of {x} is {count}')"
      ],
      "metadata": {
        "colab": {
          "base_uri": "https://localhost:8080/"
        },
        "id": "nnZqKuAPil7V",
        "outputId": "c55f4e3f-6836-4c58-d814-7c396bf63532"
      },
      "execution_count": null,
      "outputs": [
        {
          "output_type": "stream",
          "name": "stdout",
          "text": [
            "22\n",
            "counnt of 22 is 1\n"
          ]
        }
      ]
    },
    {
      "cell_type": "code",
      "source": [
        "###### ####### identical\n",
        "# 19-Return a new set of identical items from two sets\n",
        "\n",
        "set1 = {10, 20, 30, 40, 50}\n",
        "set2 = {30, 40, 50, 60, 70}\n",
        "\n",
        "print(set1.intersection(set2))"
      ],
      "metadata": {
        "colab": {
          "base_uri": "https://localhost:8080/"
        },
        "id": "7T03QUbPimBQ",
        "outputId": "b7af6b16-17a4-4d85-cbaa-baa73c1eae73"
      },
      "execution_count": null,
      "outputs": [
        {
          "output_type": "stream",
          "name": "stdout",
          "text": [
            "{40, 50, 30}\n"
          ]
        }
      ]
    },
    {
      "cell_type": "code",
      "source": [
        "# 20-Get Only unique items from two sets\n",
        "set1 = {10, 20, 30, 40, 50}\n",
        "set2 = {30, 40, 50, 60, 70}\n",
        "\n",
        "print(set1.union(set2))\n"
      ],
      "metadata": {
        "id": "H4C_pKLbimH4",
        "colab": {
          "base_uri": "https://localhost:8080/"
        },
        "outputId": "a0a53a66-66ee-4691-c716-e6ee2d06cfa0"
      },
      "execution_count": null,
      "outputs": [
        {
          "output_type": "stream",
          "name": "stdout",
          "text": [
            "{70, 40, 10, 50, 20, 60, 30}\n"
          ]
        }
      ]
    },
    {
      "cell_type": "code",
      "source": [
        "# 21-Update the first set with items that don’t exist in the second set\n",
        "set1 = {10, 20, 30}\n",
        "set2 = {20, 40, 50}\n",
        "\n",
        "set1.difference_update(set2)\n",
        "print(set1)\n",
        "\n"
      ],
      "metadata": {
        "id": "CaBf27DGimKQ",
        "colab": {
          "base_uri": "https://localhost:8080/"
        },
        "outputId": "a14d9ccc-e28f-415b-ca16-07bde3c1c72a"
      },
      "execution_count": null,
      "outputs": [
        {
          "output_type": "stream",
          "name": "stdout",
          "text": [
            "{10, 30}\n"
          ]
        }
      ]
    },
    {
      "cell_type": "code",
      "source": [
        "# 22-Remove items from the set at once\n",
        "set1 = {10, 20, 30, 40, 50}\n",
        "set1.difference_update({10, 20, 30})\n",
        "print(set1)"
      ],
      "metadata": {
        "colab": {
          "base_uri": "https://localhost:8080/"
        },
        "id": "r1fFPQS7ltlr",
        "outputId": "a90acf4b-c714-4bf0-b9e8-827da4f57f54"
      },
      "execution_count": null,
      "outputs": [
        {
          "output_type": "stream",
          "name": "stdout",
          "text": [
            "{40, 50}\n"
          ]
        }
      ]
    },
    {
      "cell_type": "code",
      "source": [
        "# 23-Return a set of elements present in Set A or B, but not both\n",
        "set1 = {10, 20, 30, 40, 50}\n",
        "set2 = {30, 40, 50, 60, 70}\n",
        "\n",
        "print(set1.symmetric_difference(set2))"
      ],
      "metadata": {
        "colab": {
          "base_uri": "https://localhost:8080/"
        },
        "id": "fHy5_ml1imOH",
        "outputId": "e916f579-5cf5-4981-b293-f20f00dcb960"
      },
      "execution_count": null,
      "outputs": [
        {
          "output_type": "stream",
          "name": "stdout",
          "text": [
            "{20, 70, 10, 60}\n"
          ]
        }
      ]
    },
    {
      "cell_type": "code",
      "source": [
        "# 24-Check if two sets have any elements in common. If yes, display the common elements\n",
        "set1 = {10, 20, 30, 40, 50}\n",
        "set2 = {60, 70, 80, 90, 10}\n",
        "\n",
        "if set1.isdisjoint(set2):\n",
        "  print(\"Two sets have no items in common\")\n",
        "else:\n",
        "  print(\"Two sets have items in common\")\n",
        "  print(set1.intersection(set2))\n"
      ],
      "metadata": {
        "id": "DAzOj-w5imRO",
        "colab": {
          "base_uri": "https://localhost:8080/"
        },
        "outputId": "4588dbfc-9238-4507-f414-26f1681c6b2d"
      },
      "execution_count": null,
      "outputs": [
        {
          "output_type": "stream",
          "name": "stdout",
          "text": [
            "Two sets have items in common\n",
            "{10}\n"
          ]
        }
      ]
    },
    {
      "cell_type": "code",
      "source": [
        "# 25-Update set1 by adding items from set2, except common items\n",
        "set1 = {10, 20, 30, 40, 50}\n",
        "set2 = {30, 40, 50, 60, 70}\n",
        "\n",
        "set1.symmetric_difference_update(set2)\n",
        "print(set1)\n"
      ],
      "metadata": {
        "colab": {
          "base_uri": "https://localhost:8080/"
        },
        "id": "gqKnbririmUy",
        "outputId": "9c8f235b-fea2-4ff6-9a1c-91fe1a66682d"
      },
      "execution_count": null,
      "outputs": [
        {
          "output_type": "stream",
          "name": "stdout",
          "text": [
            "{70, 10, 20, 60}\n"
          ]
        }
      ]
    },
    {
      "cell_type": "code",
      "source": [
        "# 26-Turn every item of a list into its square\n",
        "\n",
        "square = int(input())\n",
        "for i in range(square):\n",
        "  print(f'square of {i} is {i**2}')"
      ],
      "metadata": {
        "colab": {
          "base_uri": "https://localhost:8080/"
        },
        "id": "5VB3a72Dm9hT",
        "outputId": "9183c7a0-c92d-4a27-b014-c6b5565a9815"
      },
      "execution_count": null,
      "outputs": [
        {
          "output_type": "stream",
          "name": "stdout",
          "text": [
            "5\n",
            "square of 0 is 0\n",
            "square of 1 is 1\n",
            "square of 2 is 4\n",
            "square of 3 is 9\n",
            "square of 4 is 16\n"
          ]
        }
      ]
    },
    {
      "cell_type": "code",
      "source": [
        "# 27-Iterate both lists simultaneously ( Any list we can make and run those together)\n",
        "\n",
        "list1 = [1,2,3,4,5,6,7,8]\n",
        "list2 = ['one','two','three','four','five','six','seven','eight']\n",
        "for i,j in zip(list1,list2):\n",
        "  print(i,j)"
      ],
      "metadata": {
        "colab": {
          "base_uri": "https://localhost:8080/"
        },
        "id": "0WL-OL4jm9cK",
        "outputId": "b68102d1-7b59-4c7a-ef46-aa1386c1069c"
      },
      "execution_count": null,
      "outputs": [
        {
          "output_type": "stream",
          "name": "stdout",
          "text": [
            "1 one\n",
            "2 two\n",
            "3 three\n",
            "4 four\n",
            "5 five\n",
            "6 six\n",
            "7 seven\n",
            "8 eight\n"
          ]
        }
      ]
    },
    {
      "cell_type": "code",
      "source": [
        "# 28-Remove empty strings from the list of strings\n",
        "test_list = [\"\", \"thor\", \"\", \"ironman\", \"best\", \"\",\"sunnypaji\"]\n",
        "nlist = []\n",
        "for new in test_list:\n",
        "  if new != \"\":\n",
        "    nlist.append(new)\n",
        "print(nlist)\n"
      ],
      "metadata": {
        "colab": {
          "base_uri": "https://localhost:8080/"
        },
        "id": "zGsePMkUm9Xz",
        "outputId": "b0a5f628-b510-46ef-99e9-f069c20efa6c"
      },
      "execution_count": null,
      "outputs": [
        {
          "output_type": "stream",
          "name": "stdout",
          "text": [
            "['thor', 'ironman', 'best', 'sunnypaji']\n"
          ]
        }
      ]
    },
    {
      "cell_type": "code",
      "source": [
        "# 29 Print the sum of the current number and the previous number\n",
        "print(\"Printing current and previous number and their sum in a range(10)\")\n",
        "previous_num = 0\n",
        "\n",
        "# loop from 1 to 10\n",
        "for i in range(1, 11):\n",
        "    x_sum = previous_num + i\n",
        "    print(\"Current Number is\", i, \"Previous Number \", previous_num, \" Sum: \", previous_num + i)\n",
        "    # modify previous number\n",
        "    # set it to the current number\n",
        "    previous_num = i\n",
        "\n"
      ],
      "metadata": {
        "colab": {
          "base_uri": "https://localhost:8080/"
        },
        "id": "Wq37lABpm9Nu",
        "outputId": "38f78165-6ad3-4cf0-8b09-cb2fbe484556"
      },
      "execution_count": null,
      "outputs": [
        {
          "output_type": "stream",
          "name": "stdout",
          "text": [
            "Printing current and previous number and their sum in a range(10)\n",
            "Current Number 1 Previous Number  0  Sum:  1\n",
            "Current Number 2 Previous Number  1  Sum:  3\n",
            "Current Number 3 Previous Number  2  Sum:  5\n",
            "Current Number 4 Previous Number  3  Sum:  7\n",
            "Current Number 5 Previous Number  4  Sum:  9\n",
            "Current Number 6 Previous Number  5  Sum:  11\n",
            "Current Number 7 Previous Number  6  Sum:  13\n",
            "Current Number 8 Previous Number  7  Sum:  15\n",
            "Current Number 9 Previous Number  8  Sum:  17\n",
            "Current Number 10 Previous Number  9  Sum:  19\n"
          ]
        }
      ]
    },
    {
      "cell_type": "code",
      "source": [
        "# 1-Print list in reverse order using a loop\n",
        "# 2-Display numbers from -10 to -1 using for loop\n",
        "# 3-Write a program to display all prime numbers within a range ( divisible by 1 and the number itself) 5\n",
        "# 4-Find the factorial of a given number, n, n-1, n-2, n-3 ( n = 10*9*8*7*6....1)\n",
        "          # n = 5\n",
        "          #   output = n * (n-1)\n",
        "          #           5 * 4 * 3 * 2 * 1\n",
        "# 5- Reverse a given integer number ( n = 45736382 )\n",
        "# 6-Use a loop to display elements from a given list present at odd index positions\n",
        "# 7-Calculate the cube of all numbers from 1 to a given number (n = 10)\n",
        "# 8-Find the sum of the series upto n terms (n = 5)\n",
        "# 9-\n",
        "# *                  # Print this pattern\n",
        "# * * \n",
        "# * * * \n",
        "# * * * * \n",
        "# * * * * * \n",
        "# * * * * \n",
        "# * * * \n",
        "# * * \n",
        "# *\n",
        "# 10 - Convert two lists into a dictionary\n",
        "# 11-Merge two Python dictionaries into one\n",
        "# 12-Create a dictionary by extracting the keys from a given dictionary\n",
        "# 13-Remove and add item in a list\n",
        "# 14-Unpack the tuple into 4 variables\n",
        "# 15-Swap two tuples in Python\n",
        "# 16-Copy specific elements from one tuple to a new tuple\n",
        "# 17-Sort a tuple of tuples by 2nd item\n",
        "# 18-Counts the number of occurrences of item 50 from a tuple\n",
        "# 19-Return a new set of identical items from two sets\n",
        "#  20-Get Only unique items from two sets\n",
        "# 21-Update the first set with items that don’t exist in the second set\n",
        "# 22-Remove items from the set at once\n",
        "# 23-Return a set of elements present in Set A or B, but not both\n",
        "# 24-Check if two sets have any elements in common. If yes, display the common elements\n",
        "# 25-Update set1 by adding items from set2, except common items\n",
        "# 26-Turn every item of a list into its square\n",
        "# 27-Iterate both lists simultaneously ( Any list we can make and run those together)\n",
        "# 28-Remove empty strings from the list of strings\n",
        "# 29 Print the sum of the current number and the previous number"
      ],
      "metadata": {
        "id": "2R7pOg4YiPBG"
      },
      "execution_count": null,
      "outputs": []
    },
    {
      "cell_type": "code",
      "source": [],
      "metadata": {
        "id": "4wrPhU8He9Ly"
      },
      "execution_count": null,
      "outputs": []
    },
    {
      "cell_type": "markdown",
      "source": [
        "# 14 sept Assignments"
      ],
      "metadata": {
        "id": "701RjCknx6KV"
      }
    },
    {
      "cell_type": "code",
      "source": [
        "# Print 1st 10 integers and their squares \n",
        "x = 0\n",
        "while x<=10:\n",
        "  print(f'the square of {x} is {x**2}')\n",
        "  x = x+1"
      ],
      "metadata": {
        "id": "EVRbVxWjeT09",
        "colab": {
          "base_uri": "https://localhost:8080/"
        },
        "outputId": "d582c34d-fe93-4a6d-f79a-64c4de4df5fd"
      },
      "execution_count": null,
      "outputs": [
        {
          "output_type": "stream",
          "name": "stdout",
          "text": [
            "the square of 0 is 0\n",
            "the square of 1 is 1\n",
            "the square of 2 is 4\n",
            "the square of 3 is 9\n",
            "the square of 4 is 16\n",
            "the square of 5 is 25\n",
            "the square of 6 is 36\n",
            "the square of 7 is 49\n",
            "the square of 8 is 64\n",
            "the square of 9 is 81\n",
            "the square of 10 is 100\n"
          ]
        }
      ]
    },
    {
      "cell_type": "code",
      "source": [
        "string_1 = \"P@#yn26at^&i5ve\"\n",
        "for i in string_1:\n",
        "  \n",
        "    print(i)"
      ],
      "metadata": {
        "id": "2b_DBFCMn-Kp"
      },
      "execution_count": null,
      "outputs": []
    },
    {
      "cell_type": "code",
      "source": [
        "########  Count all letters, digits, and special symbols from a given string\n",
        "nstr = \"P@#yn26at^&i5ve\"\n",
        "x = 0\n",
        "y = 0\n",
        "z = 0\n",
        "for i in nstr:\n",
        "    if i.isalpha():\n",
        "      x += 1\n",
        "    elif i.isdigit():\n",
        "      y += 1\n",
        "    else:\n",
        "      z += 1\n",
        "print(f'the total count of no.of letters is {x}')\n",
        "print(f'the total count of no.of digits is {y}')\n",
        "print(f'the total count of no.of special characters is {z}')"
      ],
      "metadata": {
        "colab": {
          "base_uri": "https://localhost:8080/"
        },
        "id": "RbWGsFdrsq-F",
        "outputId": "2d13b52c-88a5-43ab-a39b-dedc9814a854"
      },
      "execution_count": null,
      "outputs": [
        {
          "output_type": "stream",
          "name": "stdout",
          "text": [
            "the total count of no.of letters is 8\n",
            "the total count of no.of digits is 3\n",
            "the total count of no.of special characters is 4\n"
          ]
        }
      ]
    },
    {
      "cell_type": "code",
      "source": [],
      "metadata": {
        "id": "yUfd21kQynwK"
      },
      "execution_count": null,
      "outputs": []
    },
    {
      "cell_type": "code",
      "source": [
        "# Find all occurrences of a substring in a given string by ignoring the case (# As, AS, as)\n",
        "# Calculate the sum and average of the digits present in a string (str1 = \"PYnative29@#8496\")\n",
        "# Write a program to count occurrences of all characters within a string ( Madhuri chawale )\n",
        "# Reverse a given string ( can be anything )"
      ],
      "metadata": {
        "id": "F0VUsaM0niOe"
      },
      "execution_count": null,
      "outputs": []
    },
    {
      "cell_type": "code",
      "source": [
        "#1 Find all occurrences of a substring in a given string by ignoring the case (# As, AS, as)\n",
        "dstring = \"my name is jovani georgio but everbody calls me georgio\"\n",
        "dstring.split(' ')"
      ],
      "metadata": {
        "colab": {
          "base_uri": "https://localhost:8080/"
        },
        "id": "RoZ5Yqv-uRsw",
        "outputId": "10a0156b-e544-42a9-84bb-c66792d7ccf4"
      },
      "execution_count": null,
      "outputs": [
        {
          "output_type": "execute_result",
          "data": {
            "text/plain": [
              "['my',\n",
              " 'name',\n",
              " 'is',\n",
              " 'jovani',\n",
              " 'georgio',\n",
              " 'but',\n",
              " 'everbody',\n",
              " 'calls',\n",
              " 'me',\n",
              " 'georgio']"
            ]
          },
          "metadata": {},
          "execution_count": 5
        }
      ]
    },
    {
      "cell_type": "code",
      "source": [
        "#2 Calculate the sum and average of the digits present in a string (str1 = \"PYnative29@#8496\")\n",
        "str1 = \"PYnative29@#8496\"\n",
        "sum = 0\n",
        "count = 0\n",
        "for i in str1:\n",
        "  if i.isdigit() == True:\n",
        "    sum = sum+int(i)\n",
        "    count += 1 \n",
        "print(f'sum of digits is {sum} and average is {sum/count}')    "
      ],
      "metadata": {
        "colab": {
          "base_uri": "https://localhost:8080/"
        },
        "id": "TRYQMB85utHm",
        "outputId": "04b3132a-7398-410c-80f7-63044df60ff4"
      },
      "execution_count": null,
      "outputs": [
        {
          "output_type": "stream",
          "name": "stdout",
          "text": [
            "sum of digits is 38 and average is 6.333333333333333\n"
          ]
        }
      ]
    },
    {
      "cell_type": "code",
      "source": [
        "#3 Write a program to count occurrences of all characters within a string ( Madhuri chawale )\n",
        "strr = 'durgesh rathod'\n",
        "len(strr.split( ))\n"
      ],
      "metadata": {
        "colab": {
          "base_uri": "https://localhost:8080/"
        },
        "id": "2zGoC76XwY8F",
        "outputId": "bd5e3210-b32d-4bec-ea0e-03362b0d90ec"
      },
      "execution_count": null,
      "outputs": [
        {
          "output_type": "execute_result",
          "data": {
            "text/plain": [
              "2"
            ]
          },
          "metadata": {},
          "execution_count": 15
        }
      ]
    },
    {
      "cell_type": "code",
      "source": [
        "#4 Reverse a given string ( can be anything )\n",
        "dstring = 'my name is jovani georgio but everbody calls me georgio'\n",
        "dstring.split()[::-1]"
      ],
      "metadata": {
        "colab": {
          "base_uri": "https://localhost:8080/"
        },
        "id": "1xbGlCeJxGR4",
        "outputId": "06aa4ade-1178-4d43-cbfc-7b55e5218b78"
      },
      "execution_count": null,
      "outputs": [
        {
          "output_type": "execute_result",
          "data": {
            "text/plain": [
              "['georgio',\n",
              " 'me',\n",
              " 'calls',\n",
              " 'everbody',\n",
              " 'but',\n",
              " 'georgio',\n",
              " 'jovani',\n",
              " 'is',\n",
              " 'name',\n",
              " 'my']"
            ]
          },
          "metadata": {},
          "execution_count": 19
        }
      ]
    },
    {
      "cell_type": "code",
      "source": [],
      "metadata": {
        "id": "z3zpDm1InMuo"
      },
      "execution_count": null,
      "outputs": []
    },
    {
      "cell_type": "markdown",
      "source": [
        "# 15 Sept"
      ],
      "metadata": {
        "id": "YRsF8TpanNMn"
      }
    },
    {
      "cell_type": "code",
      "source": [
        "# Write a Python function to check whether a number falls in a given range.\n",
        "def inlist ( x,y,z ):\n",
        " if x in range(y,z):\n",
        "   print('yes it is in range')\n",
        " else:\n",
        "  print()"
      ],
      "metadata": {
        "id": "sQnsa2-gnSUO"
      },
      "execution_count": null,
      "outputs": []
    },
    {
      "cell_type": "code",
      "source": [
        "inlist(55,1,10)"
      ],
      "metadata": {
        "id": "vpiSTiFszB-f"
      },
      "execution_count": null,
      "outputs": []
    },
    {
      "cell_type": "code",
      "source": [
        "#Count capital and small letters in gven input string\n",
        "def stringcount (strr):\n",
        "  countupper = 0\n",
        "  countlower = 0\n",
        "  for i in strr:\n",
        "    if i.isupper():\n",
        "      countupper += 1\n",
        "    else:\n",
        "      countlower += 1\n",
        "  return countupper,countlower     "
      ],
      "metadata": {
        "id": "rTzelErP1h0t"
      },
      "execution_count": 1,
      "outputs": []
    },
    {
      "cell_type": "code",
      "source": [
        "stringcount(\"MYNAMEIS durgesh\")"
      ],
      "metadata": {
        "colab": {
          "base_uri": "https://localhost:8080/"
        },
        "id": "EGsYA3Zn3UH-",
        "outputId": "d8226450-a433-4c6e-c30a-863b5af5f689"
      },
      "execution_count": 2,
      "outputs": [
        {
          "output_type": "execute_result",
          "data": {
            "text/plain": [
              "(8, 8)"
            ]
          },
          "metadata": {},
          "execution_count": 2
        }
      ]
    },
    {
      "cell_type": "code",
      "source": [
        "# Write a Python function that takes a list and returns a new list with unique elements of the first list.( 2 ways )\n",
        "def ulist (nlist):\n",
        "  x = []\n",
        "  for a in nlist:\n",
        "    if a not in x:\n",
        "      x.append(a)\n",
        "  return x"
      ],
      "metadata": {
        "id": "9voPYeegYzfB"
      },
      "execution_count": null,
      "outputs": []
    },
    {
      "cell_type": "code",
      "source": [
        "ulist([1,1,2,2,2,3,3,4,4,4,4,4,4,5,5,5,6,6,7,7,8,8,9,9])"
      ],
      "metadata": {
        "colab": {
          "base_uri": "https://localhost:8080/"
        },
        "id": "h3pjS6n5ZZLC",
        "outputId": "44a28055-e7dd-440b-af6a-642ee7ed1b92"
      },
      "execution_count": null,
      "outputs": [
        {
          "output_type": "execute_result",
          "data": {
            "text/plain": [
              "[1, 2, 3, 4, 5, 6, 7, 8, 9]"
            ]
          },
          "metadata": {},
          "execution_count": 29
        }
      ]
    },
    {
      "cell_type": "code",
      "source": [
        "# Write a Python function that checks whether a passed string is palindrome or not.\n",
        "def pallendrome (strr):\n",
        "  if strr == strr[::-1]:\n",
        "    return 'yes it is pallendrome'\n",
        "  else:\n",
        "    return 'no it is not pallendrome' "
      ],
      "metadata": {
        "id": "qeqBydY_d_md"
      },
      "execution_count": null,
      "outputs": []
    },
    {
      "cell_type": "code",
      "source": [
        "pallendrome('lmlll')"
      ],
      "metadata": {
        "colab": {
          "base_uri": "https://localhost:8080/",
          "height": 36
        },
        "id": "aylOjDyjmtBC",
        "outputId": "d64a2ef3-38b5-428c-9809-7fe203935500"
      },
      "execution_count": null,
      "outputs": [
        {
          "output_type": "execute_result",
          "data": {
            "text/plain": [
              "'no it is not pallendrome'"
            ],
            "application/vnd.google.colaboratory.intrinsic+json": {
              "type": "string"
            }
          },
          "metadata": {},
          "execution_count": 35
        }
      ]
    }
  ]
}