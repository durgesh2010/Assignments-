{
  "nbformat": 4,
  "nbformat_minor": 0,
  "metadata": {
    "colab": {
      "provenance": [],
      "authorship_tag": "ABX9TyMmTAkMLZ679nTu715mt8R+",
      "include_colab_link": true
    },
    "kernelspec": {
      "name": "python3",
      "display_name": "Python 3"
    },
    "language_info": {
      "name": "python"
    }
  },
  "cells": [
    {
      "cell_type": "markdown",
      "metadata": {
        "id": "view-in-github",
        "colab_type": "text"
      },
      "source": [
        "<a href=\"https://colab.research.google.com/github/durgesh2010/Assignments-/blob/main/Tell_me_about_yourself_and_project_demonstration.ipynb\" target=\"_parent\"><img src=\"https://colab.research.google.com/assets/colab-badge.svg\" alt=\"Open In Colab\"/></a>"
      ]
    },
    {
      "cell_type": "code",
      "source": [],
      "metadata": {
        "id": "9xKy26zkjXtw"
      },
      "execution_count": null,
      "outputs": []
    },
    {
      "cell_type": "markdown",
      "source": [
        "# Question 1. Tell me about yourself? (Write in 200 Words)."
      ],
      "metadata": {
        "id": "uwgnVEarjY4w"
      }
    },
    {
      "cell_type": "markdown",
      "source": [
        "Hello good morning/noon sir/madam thanks for me considering to be here.\n",
        "\n",
        "My Full name is Durgesh rathod i am an engineering graduate specialization in electronics and communication.\n",
        "\n",
        "I am from indore and basically belongs to khandwa(m.p). Recently i have completed internship as a \"Quality Analyst\" \n",
        "of 2 months where i was responsible for data labelling, data annotaion, data segregation\n",
        "that data was used to train machine learning models.\n",
        "\n",
        "Also completed few projects related to oops concept in python along with having hands on knowledge of SQL basic queries\n",
        "\n",
        "I consider myself solution oriented person who tries to solve problem in different\n",
        "different ways and find the efficient way like in my internship i found unique ways to solve prblem in less time.\n",
        "\n",
        "I am a hard working and enthusiastic person looking for the suitable challenging role.\n",
        "\n",
        "My hobbies is to make to do list and listening to music."
      ],
      "metadata": {
        "id": "zrSQxYxBhYLC"
      }
    },
    {
      "cell_type": "code",
      "source": [],
      "metadata": {
        "id": "ALr-OUKSiesR"
      },
      "execution_count": null,
      "outputs": []
    },
    {
      "cell_type": "markdown",
      "source": [
        "# Question 2. Describe any project what you have done in Edyoda? (Write in 100 words)"
      ],
      "metadata": {
        "id": "LBKjEDeoiVah"
      }
    },
    {
      "cell_type": "markdown",
      "source": [
        "# ATM Machine interface Project"
      ],
      "metadata": {
        "id": "XuHNEKZhB1yX"
      }
    },
    {
      "cell_type": "markdown",
      "source": [
        "Using Object orineted programming concepts designed ATM Machiine interface which works very similare as we see in our near located ATMs\n",
        "it welcomes you ask for set pin in first go then allows to deposit ,withdraw and check balance with different keys which showed when the program started to run.\n",
        "\n",
        "It has get_pin and set_pin methods that makes code abstract and provide security to important variables along with used inheritance in effective manner so that code is modular less complex.\n",
        "\n",
        "The program has five important key points :  \n",
        "\n",
        "1. Create Pin\n",
        "\n",
        "2. Deposit\n",
        "\n",
        "3. Withdrawal\n",
        "\n",
        "4. Check Balance\n",
        "\n",
        "5. Exit"
      ],
      "metadata": {
        "id": "o3NxH4oGj5tO"
      }
    }
  ]
}