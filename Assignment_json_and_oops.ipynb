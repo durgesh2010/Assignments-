{
  "nbformat": 4,
  "nbformat_minor": 0,
  "metadata": {
    "colab": {
      "provenance": [],
      "authorship_tag": "ABX9TyN0/cbhpELbzkbMo5d00MTe",
      "include_colab_link": true
    },
    "kernelspec": {
      "name": "python3",
      "display_name": "Python 3"
    },
    "language_info": {
      "name": "python"
    }
  },
  "cells": [
    {
      "cell_type": "markdown",
      "metadata": {
        "id": "view-in-github",
        "colab_type": "text"
      },
      "source": [
        "<a href=\"https://colab.research.google.com/github/durgesh2010/Assignments-/blob/main/Assignment_json_and_oops.ipynb\" target=\"_parent\"><img src=\"https://colab.research.google.com/assets/colab-badge.svg\" alt=\"Open In Colab\"/></a>"
      ]
    },
    {
      "cell_type": "markdown",
      "source": [
        "1. Create a JSON file (employee.json) containing employee information of minimum 5 employees. Each employee information consists of Name, DOB, Height, City, State. Write a python program that reads this information from the JSON file and saves the information into a list of objects of Employee class. Finally print the list of the Employee objects.\n",
        "\n",
        "\n",
        "point_right 2. Create a dictionary of any 7 Indian states and their capitals. Write this into a JSON file."
      ],
      "metadata": {
        "id": "zJEmT6jPcRcY"
      }
    },
    {
      "cell_type": "code",
      "execution_count": null,
      "metadata": {
        "id": "ciLVUPGmY32Y"
      },
      "outputs": [],
      "source": []
    },
    {
      "cell_type": "code",
      "source": [],
      "metadata": {
        "id": "-Z3MpAFHZCz6"
      },
      "execution_count": null,
      "outputs": []
    },
    {
      "cell_type": "markdown",
      "source": [
        "Create a class named ‘Dog’. It should have a constructor which accepts its name, age and coat color. You must perform the following operations:\n",
        "\n",
        "🔴 a. It should have a function ‘description()’ which prints the name and age of the dog.\n",
        "🔴 b. It should have a function ‘get_info()’ which prints the coat color of the dog.\n",
        "🔴 c. Create child classes ‘JackRussellTerrier’ and ‘Bulldog’ which is inherited from the class ‘Dog’. It should have at least two methods of its own.\n",
        "🔴 d. Create objects and implement the above functionalities."
      ],
      "metadata": {
        "id": "bbPFNjRUZKnq"
      }
    },
    {
      "cell_type": "code",
      "source": [
        "class Dog:\n",
        "  def __init__(self,name,age,coatColor):\n",
        "    self.name = name \n",
        "    self.age = age \n",
        "    self.coatColor = coatColor\n",
        "\n",
        "  def description(self):\n",
        "    print(\"Dog's name : \",self.name)  \n",
        "    print(\"Dog's age : \",self.age)  \n",
        "\n",
        "  def getinfo(self):\n",
        "    print(\"coatColor : \",self.coatColor)\n",
        "\n",
        "class JackRussellTerrier(Dog):\n",
        "  def __init__(self,name,age,coatColor,height,weight):\n",
        "    super().__init__(name,age,coatColor) \n",
        "    self.height = height\n",
        "    self.weight = weight  \n",
        "\n",
        "  def heightjack(self):\n",
        "    print(\"height : \",self.height) \n",
        "\n",
        "\n",
        "  def weightjack(self):\n",
        "    print(\"weight : \",self.weight)\n",
        "\n",
        "\n",
        "class Bulldog(Dog):\n",
        "  def __init__ (self,sex,training_status,name,age,coatColor):\n",
        "    super().__init__(name,age,coatColor)\n",
        "    self.sex = sex\n",
        "    self.training_status = training_status\n",
        "\n",
        "\n",
        "  def identity(self):\n",
        "    print(\"sex : \",self.sex) \n",
        "\n",
        "  def training(self):\n",
        "    print(\"training statues  : \",self.training_status) \n",
        "\n",
        "\n",
        "\n",
        "\n",
        "dogy = Dog(\"Mickel\",2,\"Brown\")  \n",
        "dogy.description()\n",
        "dogy.getinfo()\n",
        "dg = JackRussellTerrier(\"Mongo\",4,\"Black\",3,25) \n",
        "dg.heightjack()\n",
        "dg.weightjack()\n",
        "dg.getinfo()\n",
        "bull = Bulldog('masculine','trained','bulldog',6,'white')\n",
        "bull.identity()\n",
        "bull.training()\n",
        "bull.getinfo()"
      ],
      "metadata": {
        "colab": {
          "base_uri": "https://localhost:8080/"
        },
        "id": "yoAlBihnbE8i",
        "outputId": "694e2e7f-b91c-45b8-ed9a-c51c7aeeca2e"
      },
      "execution_count": 6,
      "outputs": [
        {
          "output_type": "stream",
          "name": "stdout",
          "text": [
            "Dog's name :  Mickel\n",
            "Dog's age :  2\n",
            "coatColor :  Brown\n",
            "height :  3\n",
            "weight :  25\n",
            "coatColor :  Black\n",
            "sex :  masculine\n",
            "training statues  :  trained\n",
            "coatColor :  white\n"
          ]
        }
      ]
    }
  ]
}