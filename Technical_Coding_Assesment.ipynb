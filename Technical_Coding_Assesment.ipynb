{
  "nbformat": 4,
  "nbformat_minor": 0,
  "metadata": {
    "colab": {
      "provenance": [],
      "authorship_tag": "ABX9TyOrbE5nKkvBq1XvAKT07Fo+",
      "include_colab_link": true
    },
    "kernelspec": {
      "name": "python3",
      "display_name": "Python 3"
    },
    "language_info": {
      "name": "python"
    }
  },
  "cells": [
    {
      "cell_type": "markdown",
      "metadata": {
        "id": "view-in-github",
        "colab_type": "text"
      },
      "source": [
        "<a href=\"https://colab.research.google.com/github/durgesh2010/Assignments-/blob/main/Technical_Coding_Assesment.ipynb\" target=\"_parent\"><img src=\"https://colab.research.google.com/assets/colab-badge.svg\" alt=\"Open In Colab\"/></a>"
      ]
    },
    {
      "cell_type": "code",
      "execution_count": null,
      "metadata": {
        "id": "JgE54NGNnBq1"
      },
      "outputs": [],
      "source": []
    },
    {
      "cell_type": "markdown",
      "source": [
        "# Problem statement 1 "
      ],
      "metadata": {
        "id": "zMl0qTcpMFdx"
      }
    },
    {
      "cell_type": "markdown",
      "source": [
        "Python Candidates - Question 1\n",
        "\n",
        "You will have a number of elements and in the next n lines element of a list. You have to create a list from the given strings. You have to sort the list based on 2nd last character of a string.\n",
        "\n",
        "For example: given list = ['great','hello','hiyo','abc'] so your output_dictionary should be ['great', 'abc', 'hello','hiyo']\n",
        "\n",
        "Input Format:\n",
        "\n",
        "At first-line it will have an integer (number of elements inside a list). In the second line, it will have a string.\n",
        "\n",
        "Output Format:\n",
        "\n",
        "A single line containing a sorted list."
      ],
      "metadata": {
        "id": "PTNDe_rinVb3"
      }
    },
    {
      "cell_type": "code",
      "source": [
        "input1 = input('Enter the the number of elemnts (integer) : ')\n",
        "print(input1)\n",
        "x = (input('enter the string example - great,hello,hiyo,abc:   '))\n",
        "x = x.split(',')\n",
        "x.sort(key=lambda a:a[-2])\n",
        "print (f'final output as sorted string is  : {x}')"
      ],
      "metadata": {
        "colab": {
          "base_uri": "https://localhost:8080/"
        },
        "id": "0ni8c4tGsKkJ",
        "outputId": "88b2cc76-3587-4db2-b679-bbcee4ffc381"
      },
      "execution_count": 26,
      "outputs": [
        {
          "output_type": "stream",
          "name": "stdout",
          "text": [
            "Enter the the number of elemnts (integer) : 5\n",
            "5\n",
            "enter the string example - great,hello,hiyo,abc :ghj,kli,vbn,xse,asd\n",
            "final output as sorted string is  : ['vbn', 'ghj', 'kli', 'xse', 'asd']\n"
          ]
        }
      ]
    },
    {
      "cell_type": "code",
      "source": [],
      "metadata": {
        "id": "uABNLFcn-HZS"
      },
      "execution_count": null,
      "outputs": []
    },
    {
      "cell_type": "code",
      "source": [],
      "metadata": {
        "id": "ufe4_KrN-H8R"
      },
      "execution_count": null,
      "outputs": []
    },
    {
      "cell_type": "markdown",
      "source": [
        "# Problem statement 2 "
      ],
      "metadata": {
        "id": "cIk92xj7MT9y"
      }
    },
    {
      "cell_type": "markdown",
      "source": [
        "Python Candidates -\n",
        "\n",
        "\n",
        "\n",
        "﻿Your task is to complete the validate_triangle and validate_rectangle functions for the classes.Hint for validating is given in the\n",
        "\n",
        "comments of the code. Also you will have to print the following after validation in respective functions:-\n",
        "\n",
        "1.Invalid Triangle: If the triangle sum property of sides is not valid(More hint in the comments of code)\n",
        "\n",
        "2.Valid Triangle:If the triangle sum property of sides is valid.\n",
        "\n",
        "3.Valid Rectangle:If 2 side pairs are same and they are input in correct order like l,b,l,b\n",
        "\n",
        "4.Invalid Rectangle: If Not Valid rectangle as stated above.\n",
        "\n",
        "Input Format:\n",
        "\n",
        "The side length of triangle followed by for rectangle in the next line in order.\n",
        "\n",
        "Output Format:\n",
        "\n",
        "since object are created in order, so first validate info about triangle will come and than rectangle.\n",
        "\n",
        "Sample Input 0:\n",
        "\n",
        "3 4 5\n",
        "\n",
        "2 4 2 4\n",
        "\n",
        "Sample Output 0:\n",
        "\n",
        "Valid Triangle\n",
        "\n",
        "Valid Rectangle"
      ],
      "metadata": {
        "id": "L9OvFe0eA0wF"
      }
    },
    {
      "cell_type": "code",
      "source": [],
      "metadata": {
        "id": "CjiSBrBOA37V"
      },
      "execution_count": null,
      "outputs": []
    },
    {
      "cell_type": "code",
      "source": [
        "class TriangleRectangle:\n",
        "  def __init__(self):\n",
        "    self.triangle()\n",
        "  def triangle(self):\n",
        "        \n",
        "    input1 = int(input(\"Enter your first value :\"))\n",
        "    input2 = int(input(\"Enter your second value :\"))\n",
        "    input3 = int(input(\"Enter your third value :\"))\n",
        "\n",
        "    if input1 ** 2 + input2 ** 2 == input3 ** 2:\n",
        "\n",
        "        print(\"Valid triangle\")\n",
        "\n",
        "    elif input2 **2 + input3 ** 2 == input1 ** 2:\n",
        "\n",
        "        print(\"Valid triangle\")\n",
        "\n",
        "    elif input3 ** 2 + input1 ** 2 == input2 ** 2:\n",
        "        print(\"valid triangle\")\n",
        "    else :\n",
        "\n",
        "        print(\"Invalid\")\n",
        "    self.rectangle()  \n",
        "\n",
        "  def rectangle(self):\n",
        "    \n",
        "     print('enter the values in the order like l,b,l,b ')\n",
        "     rect1 = input('enter the 1st value of rectangle :  ')\n",
        "     rect2 = input('enter the 2nd  value of rectangle :  ')\n",
        "     rect3 = input('enter the 3rd  value of rectangle :  ')\n",
        "     rect4 = input('enter the 4th value of rectangle :  ')\n",
        "     if rect1 == rect3 and rect2 == rect4:\n",
        "       print('valid Rectangle')\n",
        "     else :\n",
        "       print(' invalid rectangle')  \n"
      ],
      "metadata": {
        "id": "EKfZmPCbA4HU"
      },
      "execution_count": 41,
      "outputs": []
    },
    {
      "cell_type": "code",
      "source": [
        "obj = TriangleRectangle()\n",
        "# print(obj)"
      ],
      "metadata": {
        "colab": {
          "base_uri": "https://localhost:8080/"
        },
        "id": "w8a74AnCHMhM",
        "outputId": "396695a2-3e16-42c5-c713-15c4a4ecd4e0"
      },
      "execution_count": 42,
      "outputs": [
        {
          "output_type": "stream",
          "name": "stdout",
          "text": [
            "Enter your first value :4\n",
            "Enter your second value :5\n",
            "Enter your third value :3\n",
            "valid triangle\n",
            "enter the values in the order like l,b,l,b \n",
            "enter the 1st value of rectangle :  2\n",
            "enter the 2nd  value of rectangle :  4\n",
            "enter the 3rd  value of rectangle :  2\n",
            "enter the 4th value of rectangle :  4\n",
            "valid Rectangle\n"
          ]
        }
      ]
    }
  ]
}