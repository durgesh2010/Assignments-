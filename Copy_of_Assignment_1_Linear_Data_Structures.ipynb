{
  "nbformat": 4,
  "nbformat_minor": 0,
  "metadata": {
    "colab": {
      "provenance": [],
      "collapsed_sections": [],
      "include_colab_link": true
    },
    "kernelspec": {
      "name": "python3",
      "display_name": "Python 3"
    },
    "language_info": {
      "name": "python"
    }
  },
  "cells": [
    {
      "cell_type": "markdown",
      "metadata": {
        "id": "view-in-github",
        "colab_type": "text"
      },
      "source": [
        "<a href=\"https://colab.research.google.com/github/durgesh2010/Assignments-/blob/main/Copy_of_Assignment_1_Linear_Data_Structures.ipynb\" target=\"_parent\"><img src=\"https://colab.research.google.com/assets/colab-badge.svg\" alt=\"Open In Colab\"/></a>"
      ]
    },
    {
      "cell_type": "code",
      "source": [
        "# Q1. Write a program to find all pairs of an integer array whose sum is equal to a given number?\n",
        "def find(array, len, summ):\n",
        "    print(\"Pairs whose sum is : \", summ)\n",
        "    for i in range(len):\n",
        "        for j in range(i, len):\n",
        "            if (array[i] + array[j]) == summ:\n",
        "                print(array[i], array[j])\n",
        "\n",
        "\n",
        "array = [5, 2, 3, 4, 1, 6, 7]\n",
        "\n",
        "summ = 7\n",
        "\n",
        "print(\"Array= \", array)\n",
        "\n",
        "find(array, len(array), summ)"
      ],
      "metadata": {
        "colab": {
          "base_uri": "https://localhost:8080/"
        },
        "id": "kl-g7Gdiq88F",
        "outputId": "1c2b6e44-3ef7-4d2e-ff13-5bfcae1d6d0c"
      },
      "execution_count": null,
      "outputs": [
        {
          "output_type": "stream",
          "name": "stdout",
          "text": [
            "Array=  [5, 2, 3, 4, 1, 6, 7]\n",
            "Pairs whose sum is :  7\n",
            "5 2\n",
            "3 4\n",
            "1 6\n"
          ]
        }
      ]
    },
    {
      "cell_type": "code",
      "source": [
        "#Q2. Write a program to reverse an array in place? In place means you cannot create a new array. You have to update the original array.\n",
        "#The original array\n",
        "arr = [11, 22, 33, 44, 55]\n",
        "print(\"Before reversal Array is :\",arr)\n",
        "arr.reverse() \n",
        "print(\"After reversing Array:\",arr)"
      ],
      "metadata": {
        "colab": {
          "base_uri": "https://localhost:8080/"
        },
        "id": "-I3_6bQfrsoq",
        "outputId": "27a32187-13b0-4b9e-a6e0-88fc14510ee9"
      },
      "execution_count": null,
      "outputs": [
        {
          "output_type": "stream",
          "name": "stdout",
          "text": [
            "Before reversal Array is : [11, 22, 33, 44, 55]\n",
            "After reversing Array: [55, 44, 33, 22, 11]\n"
          ]
        }
      ]
    },
    {
      "cell_type": "code",
      "source": [
        "Q#3. Write a program to check if two strings are a rotation of each other?\n",
        "\n",
        "def checkRotation(s1, s2): \n",
        "    temp = '' \n",
        "    \n",
        "    if len(s1) != len(s2): \n",
        "        return False\n",
        "\n",
        "    temp = s1 + s1 \n",
        "    if s2 in temp: \n",
        "        return True\n",
        "    else: \n",
        "        return False\n",
        " \n",
        "string1 = \"HELLO\"\n",
        "string2 = \"LOHEL\"\n",
        "  \n",
        "if checkRotation(string1, string2): \n",
        "    print(\"Given Strings are rotations of each other.\")\n",
        "else: \n",
        "    print(\"Given Strings are not rotations of each other.\")"
      ],
      "metadata": {
        "colab": {
          "base_uri": "https://localhost:8080/"
        },
        "id": "XvmE9qPmthBw",
        "outputId": "aa1dd8c6-e852-46b4-c871-17eb3d48156f"
      },
      "execution_count": null,
      "outputs": [
        {
          "output_type": "stream",
          "name": "stdout",
          "text": [
            "Given Strings are rotations of each other.\n"
          ]
        }
      ]
    },
    {
      "cell_type": "code",
      "source": [
        "#Q4. Write a program to print the first non-repeated character from a string?\n",
        "\n",
        "myStr = \"thisisit\"\n",
        "while myStr != \"\":\n",
        "\tslen0 = len(myStr)\n",
        "\tch = myStr[0]\n",
        "\tmyStr = myStr.replace(ch, \"\")\n",
        "\tslen1 = len(myStr)\n",
        "\tif slen1 == slen0-1:\n",
        "\t\tprint (\"First non-repeating character = \",ch)\n",
        "\t\tbreak;\n",
        "\telse:\n",
        "\t\tprint (\"No Unique Character Found!\")\n",
        "\t"
      ],
      "metadata": {
        "colab": {
          "base_uri": "https://localhost:8080/"
        },
        "id": "5DDbqMwntiDs",
        "outputId": "b24f25d2-3fef-4fb0-91d7-4b7cc8b79e1d"
      },
      "execution_count": null,
      "outputs": [
        {
          "output_type": "stream",
          "name": "stdout",
          "text": [
            "No Unique Character Found!\n",
            "First non-repeating character =  h\n"
          ]
        }
      ]
    },
    {
      "cell_type": "code",
      "source": [
        "#Q5. Read about the Tower of Hanoi algorithm. Write a program to implement it.\n",
        "\n",
        "def TowerOfHanoi(n, from_rod, to_rod, aux_rod):\n",
        "    if n == 0:\n",
        "        return\n",
        "    TowerOfHanoi(n-1, from_rod, aux_rod, to_rod)\n",
        "    print(\"Move disk\", n, \"from rod\", from_rod, \"to rod\", to_rod)\n",
        "    TowerOfHanoi(n-1, aux_rod, to_rod, from_rod)\n",
        "\n",
        "N = 3\n",
        "\n",
        "TowerOfHanoi(N, 'A', 'C', 'B')"
      ],
      "metadata": {
        "colab": {
          "base_uri": "https://localhost:8080/"
        },
        "id": "RKHAjGFlKBAk",
        "outputId": "2352448c-7f36-4f08-ffd6-057bc45cd1ad"
      },
      "execution_count": null,
      "outputs": [
        {
          "output_type": "stream",
          "name": "stdout",
          "text": [
            "Move disk 1 from rod A to rod C\n",
            "Move disk 2 from rod A to rod B\n",
            "Move disk 1 from rod C to rod B\n",
            "Move disk 3 from rod A to rod C\n",
            "Move disk 1 from rod B to rod A\n",
            "Move disk 2 from rod B to rod C\n",
            "Move disk 1 from rod A to rod C\n"
          ]
        }
      ]
    },
    {
      "cell_type": "code",
      "source": [
        "#Q6. Read about infix, prefix, and postfix expressions. Write a program to convert postfix to prefix expression.\n",
        "def isOperator(x):\n",
        " \n",
        "    if x == \"+\":\n",
        "        return True\n",
        " \n",
        "    if x == \"-\":\n",
        "        return True\n",
        " \n",
        "    if x == \"/\":\n",
        "        return True\n",
        " \n",
        "    if x == \"*\":\n",
        "        return True\n",
        " \n",
        "    return False\n",
        "\n",
        "def postToPre(post_exp):\n",
        "    s = []\n",
        "    length = len(post_exp)\n",
        "    for i in range(length):\n",
        "        if (isOperator(post_exp[i])):\n",
        "            op1 = s[-1]\n",
        "            s.pop()\n",
        "            op2 = s[-1]\n",
        "            s.pop()\n",
        " \n",
        "            temp = post_exp[i] + op2 + op1\n",
        " \n",
        "            s.append(temp)\n",
        " \n",
        "        else:\n",
        " \n",
        "            s.append(post_exp[i])\n",
        " \n",
        "    \n",
        "    ans = \"\"\n",
        "    for i in s:\n",
        "        ans += i\n",
        "    return ans\n",
        " \n",
        "if __name__ == \"__main__\":\n",
        " \n",
        "    post_exp = \"AB+CD-\"\n",
        "    \n",
        "    print(\"Prefix : \", postToPre(post_exp))"
      ],
      "metadata": {
        "id": "GRBz37uxKb2G",
        "colab": {
          "base_uri": "https://localhost:8080/"
        },
        "outputId": "e347479e-a9e4-4a4a-b330-7bdd702cc74d"
      },
      "execution_count": null,
      "outputs": [
        {
          "output_type": "stream",
          "name": "stdout",
          "text": [
            "Prefix :  +AB-CD\n"
          ]
        }
      ]
    },
    {
      "cell_type": "code",
      "source": [
        "\n",
        "#Q7. Write a program to convert prefix expression to infix expression.\n",
        "\n",
        "def prefixToInfix(prefix):\n",
        "    stack = []\n",
        "\n",
        "    i = len(prefix) - 1\n",
        "    while i >= 0:\n",
        "        if not isOperator(prefix[i]):\n",
        "             \n",
        "            stack.append(prefix[i])\n",
        "            i -= 1\n",
        "        else:\n",
        "           \n",
        "            str = \"(\" + stack.pop() + prefix[i] + stack.pop() + \")\"\n",
        "            stack.append(str)\n",
        "            i -= 1\n",
        "     \n",
        "    return stack.pop()\n",
        " \n",
        "def isOperator(c):\n",
        "    if c == \"*\" or c == \"+\" or c == \"-\" or c == \"/\" or c == \"^\" or c == \"(\" or c == \")\":\n",
        "        return True\n",
        "    else:\n",
        "        return False\n",
        "\n",
        "if __name__==\"__main__\":\n",
        "    str = \"*-A/BC-/AKL\"\n",
        "    print(prefixToInfix(str))"
      ],
      "metadata": {
        "colab": {
          "base_uri": "https://localhost:8080/"
        },
        "id": "gAob6WAMQyh2",
        "outputId": "1308070e-4ab7-4447-d6e0-5dc3bac17be9"
      },
      "execution_count": null,
      "outputs": [
        {
          "output_type": "stream",
          "name": "stdout",
          "text": [
            "((A-(B/C))*((A/K)-L))\n"
          ]
        }
      ]
    },
    {
      "cell_type": "code",
      "source": [
        "#Q8. Write a program to check if all the brackets are closed in a given code snippet.\n",
        "def areBracketsBalanced(expr):\n",
        "    stack = []\n",
        " \n",
        "    for char in expr:\n",
        "        if char in [\"(\", \"{\", \"[\"]:\n",
        " \n",
        "            stack.append(char)\n",
        "        else:\n",
        " \n",
        "            if not stack:\n",
        "                return False\n",
        "            current_char = stack.pop()\n",
        "            if current_char == '(':\n",
        "                if char != \")\":\n",
        "                    return False\n",
        "            if current_char == '{':\n",
        "                if char != \"}\":\n",
        "                    return False\n",
        "            if current_char == '[':\n",
        "                if char != \"]\":\n",
        "                    return False\n",
        " \n",
        "    if stack:\n",
        "        return False\n",
        "    return True\n",
        "\n",
        "if __name__ == \"__main__\":\n",
        "    expr = \"{()}[]\"\n",
        " \n",
        "    if areBracketsBalanced(expr):\n",
        "        print(\"Balanced\")\n",
        "    else:\n",
        "        print(\"Not Balanced\")\n",
        " "
      ],
      "metadata": {
        "colab": {
          "base_uri": "https://localhost:8080/"
        },
        "id": "9xAdpAU6RVuq",
        "outputId": "6b6f8ad4-f66a-46c9-dfbb-361ce6e41806"
      },
      "execution_count": null,
      "outputs": [
        {
          "output_type": "stream",
          "name": "stdout",
          "text": [
            "Balanced\n"
          ]
        }
      ]
    },
    {
      "cell_type": "code",
      "source": [
        "#Q9. Write a program to reverse a stack.\n",
        "\n",
        "class Stack:\n",
        " \n",
        "    def __init__(self):\n",
        "        self.Elements = []\n",
        "\n",
        "    def push(self, value):\n",
        "        self.Elements.append(value)\n",
        "      \n",
        "    def pop(self):\n",
        "        return self.Elements.pop()\n",
        "\n",
        "    def empty(self):\n",
        "        return self.Elements == []\n",
        "\n",
        "    def show(self):\n",
        "        for value in reversed(self.Elements):\n",
        "            print(value)\n",
        " \n",
        "def BottomInsert(s, value):\n",
        "   \n",
        "    if s.empty():\n",
        "         \n",
        "        s.push(value)\n",
        "\n",
        "    else:\n",
        "        popped = s.pop()\n",
        "        BottomInsert(s, value)\n",
        "        s.push(popped)\n",
        " \n",
        "def Reverse(s):\n",
        "    if s.empty():\n",
        "        pass\n",
        "    else:\n",
        "        popped = s.pop()\n",
        "        Reverse(s)\n",
        "        BottomInsert(s, popped)\n",
        " \n",
        "stk = Stack()\n",
        "\n",
        "\n",
        "\n",
        " \n",
        "stk.push(1)\n",
        "stk.push(2)\n",
        "stk.push(3)\n",
        "stk.push(4)\n",
        "stk.push(5)\n",
        " \n",
        "print(\"Original Stack\")\n",
        "stk.show()\n",
        " \n",
        "print(\"\\nStack after Reversing\")\n",
        "Reverse(stk)\n",
        "stk.show()"
      ],
      "metadata": {
        "colab": {
          "base_uri": "https://localhost:8080/"
        },
        "id": "j-X02YYjRp7y",
        "outputId": "aee5b08f-7c90-4698-c09d-f9778b907fca"
      },
      "execution_count": 17,
      "outputs": [
        {
          "output_type": "stream",
          "name": "stdout",
          "text": [
            "Original Stack\n",
            "5\n",
            "4\n",
            "3\n",
            "2\n",
            "1\n",
            "\n",
            "Stack after Reversing\n",
            "1\n",
            "2\n",
            "3\n",
            "4\n",
            "5\n"
          ]
        }
      ]
    },
    {
      "cell_type": "code",
      "source": [
        "# q.10. Write a program to find the smallest number using a stack"
      ],
      "metadata": {
        "id": "VE9XawXDSBMi"
      },
      "execution_count": null,
      "outputs": []
    },
    {
      "cell_type": "code",
      "source": [
        "class MinStack(object):\n",
        "   min=float('inf')\n",
        "   def __init__(self):\n",
        "      self.min=float('inf')\n",
        "      self.stack = []\n",
        "   def push(self, x):\n",
        "      if x<=self.min:\n",
        "         self.stack.append(self.min)\n",
        "         self.min = x\n",
        "      self.stack.append(x)\n",
        "   def pop(self):\n",
        "      t = self.stack[-1]\n",
        "      self.stack.pop()\n",
        "      if self.min == t:\n",
        "         self.min = self.stack[-1]\n",
        "         self.stack.pop()\n",
        "   def top(self):\n",
        "      return self.stack[-1]\n",
        "   def getMin(self):\n",
        "      return self.min\n",
        "\n",
        "\n",
        "m = MinStack()\n",
        "m.push(-6)\n",
        "m.push(0)\n",
        "m.push(-3)\n",
        "print(m.getMin())\n",
        "m.pop()\n",
        "print(m.top())\n",
        "print(m.getMin())     \n",
        "\n"
      ],
      "metadata": {
        "colab": {
          "base_uri": "https://localhost:8080/"
        },
        "id": "NmRR8P4yerS-",
        "outputId": "7ef20670-5209-4ae8-eb5a-a726fef30a5e"
      },
      "execution_count": 10,
      "outputs": [
        {
          "output_type": "stream",
          "name": "stdout",
          "text": [
            "-6\n",
            "0\n",
            "-6\n"
          ]
        }
      ]
    }
  ]
}